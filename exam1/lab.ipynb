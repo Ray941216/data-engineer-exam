{
 "cells": [
  {
   "cell_type": "code",
   "execution_count": null,
   "metadata": {},
   "outputs": [],
   "source": [
    "import numpy as np"
   ]
  },
  {
   "cell_type": "code",
   "execution_count": null,
   "metadata": {},
   "outputs": [],
   "source": [
    "np.quantile([1,3, 4,56,78,99, 100], 0.75)"
   ]
  },
  {
   "cell_type": "code",
   "execution_count": null,
   "metadata": {},
   "outputs": [],
   "source": [
    "np.percentile([1,3, 4,56,78,99, 100], [25, 75])"
   ]
  },
  {
   "cell_type": "code",
   "execution_count": null,
   "metadata": {},
   "outputs": [],
   "source": [
    "np.mean([1,3, 4,56,78,99, 100])+np.std([1,3, 4,56,78,99, 100]) * 0.6745"
   ]
  },
  {
   "cell_type": "code",
   "execution_count": null,
   "metadata": {},
   "outputs": [],
   "source": [
    "from scipy import stats"
   ]
  },
  {
   "cell_type": "code",
   "execution_count": null,
   "metadata": {},
   "outputs": [],
   "source": [
    "stats.iqr([1,3, 4,56,78,99, 100])"
   ]
  },
  {
   "cell_type": "code",
   "execution_count": null,
   "metadata": {},
   "outputs": [],
   "source": [
    "from algorithm import Detector"
   ]
  },
  {
   "cell_type": "code",
   "execution_count": null,
   "metadata": {},
   "outputs": [],
   "source": [
    "detector = Detector()"
   ]
  },
  {
   "cell_type": "code",
   "execution_count": null,
   "metadata": {},
   "outputs": [],
   "source": [
    "detector.fit_predict(1)"
   ]
  },
  {
   "cell_type": "code",
   "execution_count": null,
   "metadata": {
    "scrolled": false
   },
   "outputs": [],
   "source": [
    "for x in [1,3, 4,56,78,99, 100,93, 80, 94, 5,2,3,4]:\n",
    "    display((x, detector.fit_predict(x)))"
   ]
  },
  {
   "cell_type": "code",
   "execution_count": 17,
   "metadata": {
    "scrolled": false
   },
   "outputs": [
    {
     "name": "stdout",
     "output_type": "stream",
     "text": [
      "2020-06-13 03:30:53: working on time-series/real_1.csv...\n",
      "2020-06-13 03:36:45: time-series/real_1.csv has done!\n",
      "2020-06-13 03:36:45: working on time-series/real_2.csv...\n",
      "2020-06-13 03:43:22: time-series/real_2.csv has done!\n",
      "2020-06-13 03:43:22: working on time-series/real_3.csv...\n",
      "2020-06-13 03:48:56: time-series/real_3.csv has done!\n",
      "2020-06-13 03:48:56: working on time-series/real_4.csv...\n",
      "2020-06-13 03:54:10: time-series/real_4.csv has done!\n",
      "2020-06-13 03:54:10: working on time-series/real_5.csv...\n",
      "2020-06-13 03:59:47: time-series/real_5.csv has done!\n",
      "2020-06-13 03:59:47: working on time-series/real_6.csv...\n",
      "2020-06-13 04:05:59: time-series/real_6.csv has done!\n",
      "2020-06-13 04:05:59: working on time-series/real_7.csv...\n",
      "2020-06-13 04:11:22: time-series/real_7.csv has done!\n",
      "2020-06-13 04:11:22: working on time-series/real_8.csv...\n",
      "2020-06-13 04:16:42: time-series/real_8.csv has done!\n",
      "2020-06-13 04:16:42: working on time-series/real_9.csv...\n",
      "2020-06-13 04:22:02: time-series/real_9.csv has done!\n",
      "2020-06-13 04:22:02: working on time-series/real_10.csv...\n",
      "2020-06-13 04:27:34: time-series/real_10.csv has done!\n",
      "2020-06-13 04:27:34: working on time-series/real_11.csv...\n",
      "2020-06-13 04:33:10: time-series/real_11.csv has done!\n",
      "2020-06-13 04:33:10: working on time-series/real_12.csv...\n",
      "2020-06-13 04:38:43: time-series/real_12.csv has done!\n",
      "2020-06-13 04:38:43: working on time-series/real_13.csv...\n",
      "2020-06-13 04:44:22: time-series/real_13.csv has done!\n",
      "2020-06-13 04:44:22: working on time-series/real_14.csv...\n",
      "2020-06-13 04:50:06: time-series/real_14.csv has done!\n",
      "2020-06-13 04:50:06: working on time-series/real_15.csv...\n",
      "2020-06-13 04:55:45: time-series/real_15.csv has done!\n",
      "2020-06-13 04:55:45: working on time-series/real_16.csv...\n",
      "2020-06-13 05:01:33: time-series/real_16.csv has done!\n",
      "2020-06-13 05:01:33: working on time-series/real_17.csv...\n",
      "2020-06-13 05:07:17: time-series/real_17.csv has done!\n",
      "2020-06-13 05:07:17: working on time-series/real_18.csv...\n",
      "2020-06-13 05:12:56: time-series/real_18.csv has done!\n",
      "2020-06-13 05:12:56: working on time-series/real_19.csv...\n",
      "2020-06-13 05:18:51: time-series/real_19.csv has done!\n",
      "2020-06-13 05:18:51: working on time-series/real_20.csv...\n",
      "2020-06-13 05:24:35: time-series/real_20.csv has done!\n",
      "2020-06-13 05:24:35: working on time-series/real_21.csv...\n",
      "2020-06-13 05:30:04: time-series/real_21.csv has done!\n",
      "2020-06-13 05:30:04: working on time-series/real_22.csv...\n",
      "2020-06-13 05:35:25: time-series/real_22.csv has done!\n",
      "2020-06-13 05:35:25: working on time-series/real_23.csv...\n",
      "2020-06-13 05:40:44: time-series/real_23.csv has done!\n",
      "2020-06-13 05:40:44: working on time-series/real_24.csv...\n",
      "2020-06-13 05:46:25: time-series/real_24.csv has done!\n",
      "2020-06-13 05:46:25: working on time-series/real_25.csv...\n",
      "2020-06-13 05:51:47: time-series/real_25.csv has done!\n",
      "2020-06-13 05:51:47: working on time-series/real_26.csv...\n",
      "2020-06-13 05:57:27: time-series/real_26.csv has done!\n",
      "2020-06-13 05:57:27: working on time-series/real_27.csv...\n",
      "2020-06-13 06:02:53: time-series/real_27.csv has done!\n",
      "2020-06-13 06:02:53: working on time-series/real_28.csv...\n",
      "2020-06-13 06:09:22: time-series/real_28.csv has done!\n",
      "2020-06-13 06:09:22: working on time-series/real_29.csv...\n",
      "2020-06-13 06:15:03: time-series/real_29.csv has done!\n",
      "2020-06-13 06:15:03: working on time-series/real_30.csv...\n",
      "2020-06-13 06:20:32: time-series/real_30.csv has done!\n",
      "2020-06-13 06:20:32: working on time-series/real_31.csv...\n",
      "2020-06-13 06:26:52: time-series/real_31.csv has done!\n",
      "2020-06-13 06:26:52: working on time-series/real_32.csv...\n",
      "2020-06-13 06:32:53: time-series/real_32.csv has done!\n",
      "2020-06-13 06:32:53: working on time-series/real_33.csv...\n",
      "2020-06-13 06:38:28: time-series/real_33.csv has done!\n",
      "2020-06-13 06:38:28: working on time-series/real_34.csv...\n",
      "2020-06-13 06:43:45: time-series/real_34.csv has done!\n",
      "2020-06-13 06:43:45: working on time-series/real_35.csv...\n",
      "2020-06-13 06:49:20: time-series/real_35.csv has done!\n",
      "2020-06-13 06:49:20: working on time-series/real_36.csv...\n",
      "2020-06-13 06:55:10: time-series/real_36.csv has done!\n",
      "2020-06-13 06:55:10: working on time-series/real_37.csv...\n",
      "2020-06-13 07:00:59: time-series/real_37.csv has done!\n",
      "2020-06-13 07:00:59: working on time-series/real_38.csv...\n",
      "2020-06-13 07:06:12: time-series/real_38.csv has done!\n",
      "2020-06-13 07:06:12: working on time-series/real_39.csv...\n",
      "2020-06-13 07:11:28: time-series/real_39.csv has done!\n",
      "2020-06-13 07:11:28: working on time-series/real_40.csv...\n",
      "2020-06-13 07:17:17: time-series/real_40.csv has done!\n",
      "2020-06-13 07:17:17: working on time-series/real_41.csv...\n",
      "2020-06-13 07:22:51: time-series/real_41.csv has done!\n",
      "2020-06-13 07:22:51: working on time-series/real_42.csv...\n",
      "2020-06-13 07:29:17: time-series/real_42.csv has done!\n",
      "2020-06-13 07:29:17: working on time-series/real_43.csv...\n",
      "2020-06-13 07:35:51: time-series/real_43.csv has done!\n",
      "2020-06-13 07:35:51: working on time-series/real_44.csv...\n",
      "2020-06-13 07:41:38: time-series/real_44.csv has done!\n",
      "2020-06-13 07:41:38: working on time-series/real_45.csv...\n",
      "2020-06-13 07:47:13: time-series/real_45.csv has done!\n",
      "2020-06-13 07:47:13: working on time-series/real_46.csv...\n",
      "2020-06-13 07:53:05: time-series/real_46.csv has done!\n",
      "2020-06-13 07:53:05: working on time-series/real_47.csv...\n",
      "2020-06-13 07:58:38: time-series/real_47.csv has done!\n",
      "2020-06-13 07:58:38: working on time-series/real_48.csv...\n",
      "2020-06-13 08:03:49: time-series/real_48.csv has done!\n",
      "2020-06-13 08:03:49: working on time-series/real_49.csv...\n",
      "2020-06-13 08:09:26: time-series/real_49.csv has done!\n",
      "2020-06-13 08:09:26: working on time-series/real_50.csv...\n",
      "2020-06-13 08:15:11: time-series/real_50.csv has done!\n",
      "2020-06-13 08:15:11: working on time-series/real_51.csv...\n",
      "2020-06-13 08:20:32: time-series/real_51.csv has done!\n",
      "2020-06-13 08:20:32: working on time-series/real_52.csv...\n",
      "2020-06-13 08:26:00: time-series/real_52.csv has done!\n",
      "2020-06-13 08:26:00: working on time-series/real_53.csv...\n",
      "2020-06-13 08:31:42: time-series/real_53.csv has done!\n",
      "2020-06-13 08:31:42: working on time-series/real_54.csv...\n",
      "2020-06-13 08:34:17: time-series/real_54.csv has done!\n",
      "2020-06-13 08:34:17: working on time-series/real_55.csv...\n",
      "2020-06-13 08:40:09: time-series/real_55.csv has done!\n",
      "2020-06-13 08:40:09: working on time-series/real_56.csv...\n",
      "2020-06-13 08:45:58: time-series/real_56.csv has done!\n",
      "2020-06-13 08:45:58: working on time-series/real_57.csv...\n",
      "2020-06-13 08:52:18: time-series/real_57.csv has done!\n",
      "2020-06-13 08:52:18: working on time-series/real_58.csv...\n",
      "2020-06-13 08:57:34: time-series/real_58.csv has done!\n",
      "2020-06-13 08:57:34: working on time-series/real_59.csv...\n",
      "2020-06-13 09:03:04: time-series/real_59.csv has done!\n",
      "2020-06-13 09:03:04: working on time-series/real_60.csv...\n",
      "2020-06-13 09:08:34: time-series/real_60.csv has done!\n",
      "2020-06-13 09:08:34: working on time-series/real_61.csv...\n",
      "2020-06-13 09:14:52: time-series/real_61.csv has done!\n",
      "2020-06-13 09:14:52: working on time-series/real_62.csv...\n",
      "2020-06-13 09:17:28: time-series/real_62.csv has done!\n",
      "2020-06-13 09:17:28: working on time-series/real_63.csv...\n",
      "2020-06-13 09:23:03: time-series/real_63.csv has done!\n",
      "2020-06-13 09:23:03: working on time-series/real_64.csv...\n",
      "2020-06-13 09:28:38: time-series/real_64.csv has done!\n",
      "2020-06-13 09:28:38: working on time-series/real_65.csv...\n",
      "2020-06-13 09:34:59: time-series/real_65.csv has done!\n",
      "2020-06-13 09:34:59: working on time-series/real_66.csv...\n",
      "2020-06-13 09:40:27: time-series/real_66.csv has done!\n",
      "2020-06-13 09:40:27: working on time-series/real_67.csv...\n",
      "2020-06-13 09:46:12: time-series/real_67.csv has done!\n"
     ]
    }
   ],
   "source": [
    "!python detector.py"
   ]
  },
  {
   "cell_type": "code",
   "execution_count": null,
   "metadata": {},
   "outputs": [],
   "source": []
  }
 ],
 "metadata": {
  "kernelspec": {
   "display_name": "Python 3",
   "language": "python",
   "name": "python3"
  },
  "language_info": {
   "codemirror_mode": {
    "name": "ipython",
    "version": 3
   },
   "file_extension": ".py",
   "mimetype": "text/x-python",
   "name": "python",
   "nbconvert_exporter": "python",
   "pygments_lexer": "ipython3",
   "version": "3.7.4"
  }
 },
 "nbformat": 4,
 "nbformat_minor": 4
}
