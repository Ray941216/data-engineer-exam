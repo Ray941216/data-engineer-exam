{
 "cells": [
  {
   "cell_type": "code",
   "execution_count": 7,
   "metadata": {},
   "outputs": [],
   "source": [
    "import pandas as pd"
   ]
  },
  {
   "cell_type": "code",
   "execution_count": 11,
   "metadata": {},
   "outputs": [],
   "source": [
    "df_tr = pd.read_csv('../exam2/data/train_need_aggregate.csv')"
   ]
  },
  {
   "cell_type": "code",
   "execution_count": 16,
   "metadata": {},
   "outputs": [
    {
     "data": {
      "text/plain": [
       "array([   1,    1,    1, ..., 1142, 1143,    1])"
      ]
     },
     "execution_count": 16,
     "metadata": {},
     "output_type": "execute_result"
    }
   ],
   "source": [
    "df_tr['EventId'].values\n"
   ]
  },
  {
   "cell_type": "code",
   "execution_count": 12,
   "metadata": {},
   "outputs": [],
   "source": [
    "from sklearn.preprocessing import OneHotEncoder\n"
   ]
  },
  {
   "cell_type": "code",
   "execution_count": 13,
   "metadata": {},
   "outputs": [],
   "source": [
    "onehot = OneHotEncoder(handle_unknown='ignore')"
   ]
  },
  {
   "cell_type": "code",
   "execution_count": 14,
   "metadata": {},
   "outputs": [
    {
     "data": {
      "text/plain": [
       "OneHotEncoder(handle_unknown='ignore')"
      ]
     },
     "execution_count": 14,
     "metadata": {},
     "output_type": "execute_result"
    }
   ],
   "source": [
    "onehot.fit(df_tr['EventId'].unique().reshape(-1, 1))"
   ]
  },
  {
   "cell_type": "code",
   "execution_count": 13,
   "metadata": {},
   "outputs": [],
   "source": [
    "import pickle"
   ]
  },
  {
   "cell_type": "code",
   "execution_count": 14,
   "metadata": {},
   "outputs": [],
   "source": [
    "with open('./onehotencoder.pkl', 'wb') as f:\n",
    "    pickle.dump(onehot, f)"
   ]
  },
  {
   "cell_type": "code",
   "execution_count": 7,
   "metadata": {},
   "outputs": [],
   "source": [
    "df_te = pd.read_csv('../exam2/data/test_need_aggregate.csv')"
   ]
  },
  {
   "cell_type": "code",
   "execution_count": 8,
   "metadata": {
    "scrolled": true
   },
   "outputs": [
    {
     "data": {
      "text/plain": [
       "array([  1,   2,   3,   4,   5,   6,   7,   8,   9,  10,  11,  12,  13,\n",
       "        14,  15,  16,  17,  18,  19,  20,  21,  22,  23,  24,  25,  26,\n",
       "        27,  28,  29,  30,  31,  32,  33,  34,  35,  36,  37,  38,  39,\n",
       "        40,  41,  42,  43,  44,  45,  46,  47,  48,  49,  50,  51,  52,\n",
       "        53,  54,  55,  56,  57,  58,  59,  60,  61,  62,  63,  64,  65,\n",
       "        66,  67,  68,  69,  70,  71,  72,  73,  74,  75,  76,  77,  78,\n",
       "        79,  80,  81,  82,  83,  84,  85,  86,  87,  88,  89,  90,  91,\n",
       "        92,  93,  94,  95,  96,  97,  98,  99, 100, 101, 102, 103, 104,\n",
       "       105, 106, 107, 108, 109, 110, 111, 112, 113, 114, 115, 116, 117,\n",
       "       118, 119, 120, 121, 122, 123, 124, 125, 126, 127, 128, 129, 130,\n",
       "       131, 132, 133, 134, 135, 136, 137, 138, 139, 140, 141, 142, 143,\n",
       "       144, 145, 146, 147, 148, 149, 150, 151, 152, 153, 154, 155, 156,\n",
       "       157, 158, 159, 160, 161, 162, 163, 164, 165, 166, 167, 168, 169,\n",
       "       170, 171, 172, 173, 174, 175, 176, 177, 178, 179, 180, 181, 182,\n",
       "       183, 184, 185, 186, 187, 188, 189, 190, 191, 192, 193, 194, 195,\n",
       "       196, 197, 198, 199, 200, 201, 202, 203, 204, 205, 206, 207, 208,\n",
       "       209, 210, 211, 212, 213, 214, 215, 216, 217, 218, 219, 220, 221,\n",
       "       222, 223, 224, 225, 226, 227, 228, 229, 230, 231, 232, 233, 234,\n",
       "       235, 236, 237, 238, 239, 240, 241, 242, 243, 244, 245, 246, 247,\n",
       "       248, 249, 250, 251, 252, 253, 254, 255, 256, 257, 258, 259, 260,\n",
       "       261, 262, 263, 264, 265, 266, 267, 268, 269, 270, 271, 272, 273,\n",
       "       274, 275, 276, 277, 278, 279, 280, 281, 282, 283, 284, 285, 286,\n",
       "       287, 288, 289, 290, 291, 292, 293, 294, 295, 296, 297, 298, 299,\n",
       "       300, 301, 302, 303, 304, 305, 306, 307, 308, 309, 310, 311, 312,\n",
       "       313, 314, 315, 316, 317, 318, 319, 320, 321, 322, 323, 324, 325,\n",
       "       326, 327, 328, 329, 330, 331, 332, 333, 334, 335, 336, 337, 338,\n",
       "       339, 340, 341, 342, 343, 344, 345, 346, 347, 348, 349, 350, 351,\n",
       "       352, 353, 354, 355, 356, 357, 358, 359, 360, 361, 362, 363, 364,\n",
       "       365, 366, 367, 368, 369, 370, 371, 372, 373, 374, 375, 376, 377,\n",
       "       378, 379, 380, 381, 382, 383, 384, 385, 386, 387, 388, 389, 390,\n",
       "       391, 392, 393, 394, 395, 396, 397, 398, 399, 400, 401, 402, 403,\n",
       "       404, 405, 406, 407, 408, 409, 410, 411, 412, 413, 414, 415, 416,\n",
       "       417, 418, 419, 420, 421, 422, 423, 424, 425, 426, 427, 428, 429,\n",
       "       430, 431, 432, 433, 434, 435, 436, 437, 438, 439, 440, 441, 442,\n",
       "       443, 444, 445, 446, 447, 448, 449, 450, 451, 452, 453, 454, 455,\n",
       "       456, 457, 458, 459, 460, 461, 462, 463, 464, 465, 466, 467, 468,\n",
       "       469, 470, 471, 472, 473, 474, 475, 476, 477, 478, 479, 480, 481,\n",
       "       482, 483, 484, 485, 486, 487, 488, 489, 490, 491, 492, 493, 494,\n",
       "       495, 496, 497, 498, 499, 500, 501, 502, 503, 504, 505, 506, 507,\n",
       "       508, 509, 510, 511, 512, 513, 514, 515, 516, 517, 518, 519, 520,\n",
       "       521, 522, 523, 524, 525, 526, 527, 528, 529, 530, 531, 532, 533,\n",
       "       534, 535, 536, 537, 538, 539, 540, 541, 542, 543, 544, 545, 546,\n",
       "       547, 548, 549, 550, 551, 552, 553, 554, 555, 556, 557, 558, 559,\n",
       "       560, 561, 562, 563, 564, 565, 566, 567, 568, 569, 570, 571, 572,\n",
       "       573, 574, 575, 576, 577, 578, 579, 580, 581, 582, 583, 584, 585,\n",
       "       586, 587, 588, 589, 590, 591, 592, 593, 594, 595, 596, 597, 598,\n",
       "       599, 600, 601, 602, 603, 604, 605, 606, 607, 608, 609, 610, 611,\n",
       "       612, 613, 614, 615])"
      ]
     },
     "execution_count": 8,
     "metadata": {},
     "output_type": "execute_result"
    }
   ],
   "source": [
    "df_te['EventId'].unique()"
   ]
  },
  {
   "cell_type": "code",
   "execution_count": 8,
   "metadata": {},
   "outputs": [],
   "source": [
    "import torch"
   ]
  },
  {
   "cell_type": "code",
   "execution_count": 9,
   "metadata": {},
   "outputs": [],
   "source": [
    "task = 'train'"
   ]
  },
  {
   "cell_type": "code",
   "execution_count": 22,
   "metadata": {},
   "outputs": [],
   "source": [
    "data = onehot.transform(pd.read_csv(f'../exam2/data/{task}_need_aggregate.csv')['EventId'].values.reshape(-1, 1))"
   ]
  },
  {
   "cell_type": "code",
   "execution_count": 23,
   "metadata": {},
   "outputs": [
    {
     "data": {
      "text/plain": [
       "<52289x1143 sparse matrix of type '<class 'numpy.float64'>'\n",
       "\twith 52289 stored elements in Compressed Sparse Row format>"
      ]
     },
     "execution_count": 23,
     "metadata": {},
     "output_type": "execute_result"
    }
   ],
   "source": [
    "data"
   ]
  },
  {
   "cell_type": "code",
   "execution_count": 15,
   "metadata": {},
   "outputs": [],
   "source": [
    "data = torch.tensor(\n",
    "            onehot.transform(\n",
    "                pd.read_csv(f\"../exam2/data/{task}_need_aggregate.csv\")[\n",
    "                    \"EventId\"\n",
    "                ].values.reshape(-1, 1)\n",
    "            ).toarray()\n",
    "        )"
   ]
  },
  {
   "cell_type": "code",
   "execution_count": 16,
   "metadata": {},
   "outputs": [
    {
     "data": {
      "text/plain": [
       "tensor([[1., 0., 0.,  ..., 0., 0., 0.],\n",
       "        [1., 0., 0.,  ..., 0., 0., 0.],\n",
       "        [1., 0., 0.,  ..., 0., 0., 0.],\n",
       "        ...,\n",
       "        [0., 0., 0.,  ..., 0., 1., 0.],\n",
       "        [0., 0., 0.,  ..., 0., 0., 1.],\n",
       "        [1., 0., 0.,  ..., 0., 0., 0.]], dtype=torch.float64)"
      ]
     },
     "execution_count": 16,
     "metadata": {},
     "output_type": "execute_result"
    }
   ],
   "source": [
    "data"
   ]
  },
  {
   "cell_type": "code",
   "execution_count": 18,
   "metadata": {},
   "outputs": [
    {
     "data": {
      "text/plain": [
       "tensor([[[1., 1., 1.,  ..., 1., 1., 0.],\n",
       "         [0., 0., 0.,  ..., 0., 0., 0.],\n",
       "         [0., 0., 0.,  ..., 0., 0., 0.],\n",
       "         ...,\n",
       "         [0., 0., 0.,  ..., 0., 0., 0.],\n",
       "         [0., 0., 0.,  ..., 0., 0., 0.],\n",
       "         [0., 0., 0.,  ..., 0., 0., 0.]],\n",
       "\n",
       "        [[1., 1., 1.,  ..., 1., 0., 1.],\n",
       "         [0., 0., 0.,  ..., 0., 0., 0.],\n",
       "         [0., 0., 0.,  ..., 0., 0., 0.],\n",
       "         ...,\n",
       "         [0., 0., 0.,  ..., 0., 0., 0.],\n",
       "         [0., 0., 0.,  ..., 0., 0., 0.],\n",
       "         [0., 0., 0.,  ..., 0., 0., 0.]],\n",
       "\n",
       "        [[1., 1., 1.,  ..., 0., 1., 0.],\n",
       "         [0., 0., 0.,  ..., 0., 0., 0.],\n",
       "         [0., 0., 0.,  ..., 0., 0., 0.],\n",
       "         ...,\n",
       "         [0., 0., 0.,  ..., 0., 0., 0.],\n",
       "         [0., 0., 0.,  ..., 0., 0., 0.],\n",
       "         [0., 0., 0.,  ..., 0., 0., 0.]],\n",
       "\n",
       "        ...,\n",
       "\n",
       "        [[1., 1., 0.,  ..., 1., 0., 0.],\n",
       "         [0., 0., 0.,  ..., 0., 0., 0.],\n",
       "         [0., 0., 0.,  ..., 0., 0., 0.],\n",
       "         ...,\n",
       "         [0., 0., 0.,  ..., 0., 1., 0.],\n",
       "         [0., 0., 0.,  ..., 0., 0., 1.],\n",
       "         [0., 0., 0.,  ..., 0., 0., 0.]],\n",
       "\n",
       "        [[1., 0., 1.,  ..., 0., 0., 0.],\n",
       "         [0., 0., 0.,  ..., 0., 0., 0.],\n",
       "         [0., 0., 0.,  ..., 0., 0., 0.],\n",
       "         ...,\n",
       "         [0., 0., 0.,  ..., 1., 0., 0.],\n",
       "         [0., 0., 0.,  ..., 0., 1., 0.],\n",
       "         [0., 0., 0.,  ..., 0., 0., 1.]],\n",
       "\n",
       "        [[0., 1., 0.,  ..., 0., 0., 1.],\n",
       "         [0., 0., 0.,  ..., 0., 0., 0.],\n",
       "         [0., 0., 0.,  ..., 0., 0., 0.],\n",
       "         ...,\n",
       "         [0., 0., 0.,  ..., 0., 0., 0.],\n",
       "         [0., 0., 0.,  ..., 1., 0., 0.],\n",
       "         [0., 0., 0.,  ..., 0., 1., 0.]]], dtype=torch.float64)"
      ]
     },
     "execution_count": 18,
     "metadata": {},
     "output_type": "execute_result"
    }
   ],
   "source": [
    "data.unfold(0, 1143 * 5, 1)"
   ]
  },
  {
   "cell_type": "code",
   "execution_count": 28,
   "metadata": {},
   "outputs": [
    {
     "data": {
      "text/plain": [
       "torch.Size([52289, 1143])"
      ]
     },
     "execution_count": 28,
     "metadata": {},
     "output_type": "execute_result"
    }
   ],
   "source": [
    "data.size()"
   ]
  },
  {
   "cell_type": "code",
   "execution_count": null,
   "metadata": {},
   "outputs": [],
   "source": []
  },
  {
   "cell_type": "code",
   "execution_count": 4,
   "metadata": {},
   "outputs": [],
   "source": [
    "from model import dataset"
   ]
  },
  {
   "cell_type": "code",
   "execution_count": 5,
   "metadata": {},
   "outputs": [],
   "source": [
    "tr = dataset()"
   ]
  },
  {
   "cell_type": "code",
   "execution_count": 3,
   "metadata": {},
   "outputs": [
    {
     "data": {
      "text/plain": [
       "1143"
      ]
     },
     "execution_count": 3,
     "metadata": {},
     "output_type": "execute_result"
    }
   ],
   "source": [
    "tr.features()"
   ]
  },
  {
   "cell_type": "code",
   "execution_count": 6,
   "metadata": {},
   "outputs": [
    {
     "data": {
      "text/plain": [
       "52285"
      ]
     },
     "execution_count": 6,
     "metadata": {},
     "output_type": "execute_result"
    }
   ],
   "source": [
    "\n",
    "len(tr)\n"
   ]
  },
  {
   "cell_type": "code",
   "execution_count": 7,
   "metadata": {},
   "outputs": [],
   "source": [
    "from tqdm import tqdm"
   ]
  },
  {
   "cell_type": "code",
   "execution_count": null,
   "metadata": {},
   "outputs": [],
   "source": [
    "tqdm()"
   ]
  },
  {
   "cell_type": "code",
   "execution_count": null,
   "metadata": {},
   "outputs": [],
   "source": []
  },
  {
   "cell_type": "code",
   "execution_count": null,
   "metadata": {},
   "outputs": [],
   "source": []
  },
  {
   "cell_type": "code",
   "execution_count": 3,
   "metadata": {},
   "outputs": [],
   "source": [
    "from model import dataset"
   ]
  },
  {
   "cell_type": "code",
   "execution_count": 7,
   "metadata": {},
   "outputs": [],
   "source": [
    "dataset_tr = dataset(task='train')"
   ]
  },
  {
   "cell_type": "code",
   "execution_count": 2,
   "metadata": {},
   "outputs": [
    {
     "ename": "NameError",
     "evalue": "name 'data' is not defined",
     "output_type": "error",
     "traceback": [
      "\u001b[0;31m---------------------------------------------------------------------------\u001b[0m",
      "\u001b[0;31mNameError\u001b[0m                                 Traceback (most recent call last)",
      "\u001b[0;32m<ipython-input-2-05439a952fe9>\u001b[0m in \u001b[0;36m<module>\u001b[0;34m\u001b[0m\n\u001b[0;32m----> 1\u001b[0;31m \u001b[0mdataset_tr\u001b[0m \u001b[0;34m=\u001b[0m \u001b[0mdataset\u001b[0m\u001b[0;34m(\u001b[0m\u001b[0mtask\u001b[0m\u001b[0;34m=\u001b[0m\u001b[0;34m'train'\u001b[0m\u001b[0;34m)\u001b[0m\u001b[0;34m\u001b[0m\u001b[0;34m\u001b[0m\u001b[0m\n\u001b[0m",
      "\u001b[0;32m~/Downloads/data-engineer-exam/exam3/model.py\u001b[0m in \u001b[0;36m__init__\u001b[0;34m(self, window_size, step_size, task, evaluate_ratio)\u001b[0m\n\u001b[1;32m     59\u001b[0m         \u001b[0;32mif\u001b[0m \u001b[0mtask\u001b[0m \u001b[0;34m==\u001b[0m \u001b[0;34m\"train\"\u001b[0m\u001b[0;34m:\u001b[0m\u001b[0;34m\u001b[0m\u001b[0;34m\u001b[0m\u001b[0m\n\u001b[1;32m     60\u001b[0m             \u001b[0mself\u001b[0m\u001b[0;34m.\u001b[0m\u001b[0mstart_idx\u001b[0m \u001b[0;34m=\u001b[0m \u001b[0;36m0\u001b[0m\u001b[0;34m\u001b[0m\u001b[0;34m\u001b[0m\u001b[0m\n\u001b[0;32m---> 61\u001b[0;31m             \u001b[0mself\u001b[0m\u001b[0;34m.\u001b[0m\u001b[0mend_idx\u001b[0m \u001b[0;34m=\u001b[0m \u001b[0mmath\u001b[0m\u001b[0;34m.\u001b[0m\u001b[0mfloor\u001b[0m\u001b[0;34m(\u001b[0m\u001b[0mdata\u001b[0m\u001b[0;34m.\u001b[0m\u001b[0mshape\u001b[0m\u001b[0;34m[\u001b[0m\u001b[0;36m0\u001b[0m\u001b[0;34m]\u001b[0m \u001b[0;34m*\u001b[0m \u001b[0;34m(\u001b[0m\u001b[0;36m1\u001b[0m \u001b[0;34m-\u001b[0m \u001b[0mevaluate_ratio\u001b[0m\u001b[0;34m)\u001b[0m\u001b[0;34m)\u001b[0m\u001b[0;34m\u001b[0m\u001b[0;34m\u001b[0m\u001b[0m\n\u001b[0m\u001b[1;32m     62\u001b[0m         \u001b[0;32melif\u001b[0m \u001b[0mtask\u001b[0m \u001b[0;34m==\u001b[0m \u001b[0;34m\"evaluate\"\u001b[0m\u001b[0;34m:\u001b[0m\u001b[0;34m\u001b[0m\u001b[0;34m\u001b[0m\u001b[0m\n\u001b[1;32m     63\u001b[0m             self.start_idx = (\n",
      "\u001b[0;31mNameError\u001b[0m: name 'data' is not defined"
     ]
    }
   ],
   "source": [
    "dataset_tr = dataset(task='train')"
   ]
  },
  {
   "cell_type": "code",
   "execution_count": 3,
   "metadata": {},
   "outputs": [
    {
     "data": {
      "text/plain": [
       "41826"
      ]
     },
     "execution_count": 3,
     "metadata": {},
     "output_type": "execute_result"
    }
   ],
   "source": [
    "len(dataset_tr)"
   ]
  },
  {
   "cell_type": "code",
   "execution_count": null,
   "metadata": {},
   "outputs": [],
   "source": []
  },
  {
   "cell_type": "code",
   "execution_count": 4,
   "metadata": {},
   "outputs": [
    {
     "ename": "NameError",
     "evalue": "name 'window_size' is not defined",
     "output_type": "error",
     "traceback": [
      "\u001b[0;31m---------------------------------------------------------------------------\u001b[0m",
      "\u001b[0;31mNameError\u001b[0m                                 Traceback (most recent call last)",
      "\u001b[0;32m<ipython-input-4-e2229d32dd65>\u001b[0m in \u001b[0;36m<module>\u001b[0;34m\u001b[0m\n\u001b[0;32m----> 1\u001b[0;31m \u001b[0mdataset_tr\u001b[0m\u001b[0;34m[\u001b[0m\u001b[0;34m-\u001b[0m\u001b[0;36m1\u001b[0m\u001b[0;34m]\u001b[0m\u001b[0;34m\u001b[0m\u001b[0;34m\u001b[0m\u001b[0m\n\u001b[0m",
      "\u001b[0;32m~/Downloads/data-engineer-exam/exam3/model.py\u001b[0m in \u001b[0;36m__getitem__\u001b[0;34m(self, n)\u001b[0m\n\u001b[1;32m     73\u001b[0m         return {\n\u001b[1;32m     74\u001b[0m             \u001b[0;34m\"x\"\u001b[0m\u001b[0;34m:\u001b[0m \u001b[0mtorch\u001b[0m\u001b[0;34m.\u001b[0m\u001b[0mtensor\u001b[0m\u001b[0;34m(\u001b[0m\u001b[0mself\u001b[0m\u001b[0;34m.\u001b[0m\u001b[0mdata\u001b[0m\u001b[0;34m[\u001b[0m\u001b[0mx\u001b[0m \u001b[0;34m:\u001b[0m \u001b[0mx\u001b[0m \u001b[0;34m+\u001b[0m \u001b[0mself\u001b[0m\u001b[0;34m.\u001b[0m\u001b[0mwindow_size\u001b[0m\u001b[0;34m]\u001b[0m\u001b[0;34m,\u001b[0m \u001b[0mdtype\u001b[0m\u001b[0;34m=\u001b[0m\u001b[0mtorch\u001b[0m\u001b[0;34m.\u001b[0m\u001b[0mfloat\u001b[0m\u001b[0;34m)\u001b[0m\u001b[0;34m,\u001b[0m\u001b[0;34m\u001b[0m\u001b[0;34m\u001b[0m\u001b[0m\n\u001b[0;32m---> 75\u001b[0;31m             \u001b[0;34m\"y\"\u001b[0m\u001b[0;34m:\u001b[0m \u001b[0mtorch\u001b[0m\u001b[0;34m.\u001b[0m\u001b[0mtensor\u001b[0m\u001b[0;34m(\u001b[0m\u001b[0mself\u001b[0m\u001b[0;34m.\u001b[0m\u001b[0mdata\u001b[0m\u001b[0;34m[\u001b[0m\u001b[0mx\u001b[0m \u001b[0;34m+\u001b[0m \u001b[0mwindow_size\u001b[0m\u001b[0;34m]\u001b[0m\u001b[0;34m,\u001b[0m \u001b[0mdtype\u001b[0m\u001b[0;34m=\u001b[0m\u001b[0mtorch\u001b[0m\u001b[0;34m.\u001b[0m\u001b[0mlong\u001b[0m\u001b[0;34m)\u001b[0m\u001b[0;34m,\u001b[0m\u001b[0;34m\u001b[0m\u001b[0;34m\u001b[0m\u001b[0m\n\u001b[0m\u001b[1;32m     76\u001b[0m         }\n\u001b[1;32m     77\u001b[0m \u001b[0;34m\u001b[0m\u001b[0m\n",
      "\u001b[0;31mNameError\u001b[0m: name 'window_size' is not defined"
     ]
    }
   ],
   "source": [
    "dataset_tr[-1]"
   ]
  },
  {
   "cell_type": "code",
   "execution_count": 1,
   "metadata": {},
   "outputs": [],
   "source": [
    "from model import Model"
   ]
  },
  {
   "cell_type": "code",
   "execution_count": 2,
   "metadata": {},
   "outputs": [],
   "source": [
    "import torch"
   ]
  },
  {
   "cell_type": "code",
   "execution_count": 8,
   "metadata": {},
   "outputs": [],
   "source": [
    "model = Model(dataset_tr.features())"
   ]
  },
  {
   "cell_type": "code",
   "execution_count": 10,
   "metadata": {},
   "outputs": [
    {
     "data": {
      "text/plain": [
       "<All keys matched successfully>"
      ]
     },
     "execution_count": 10,
     "metadata": {},
     "output_type": "execute_result"
    }
   ],
   "source": [
    "model.load_state_dict(torch.load(\"./model\", map_location=torch.device('cpu')))"
   ]
  },
  {
   "cell_type": "code",
   "execution_count": 11,
   "metadata": {},
   "outputs": [],
   "source": [
    "torch.save(model.state_dict(), './model')"
   ]
  },
  {
   "cell_type": "code",
   "execution_count": 6,
   "metadata": {},
   "outputs": [
    {
     "data": {
      "text/plain": [
       "Model(\n",
       "  (lstm_in): LSTM(1143, 2286, batch_first=True)\n",
       "  (dnn_out): Linear(in_features=2286, out_features=1143, bias=True)\n",
       ")"
      ]
     },
     "execution_count": 6,
     "metadata": {},
     "output_type": "execute_result"
    }
   ],
   "source": [
    "model"
   ]
  },
  {
   "cell_type": "code",
   "execution_count": 4,
   "metadata": {
    "scrolled": true
   },
   "outputs": [
    {
     "name": "stderr",
     "output_type": "stream",
     "text": [
      "Loading and Preprocessing Data(evaluate): 100%|█████████▉| 5229/5232 [00:00<00:00, 385536.51it/s]"
     ]
    },
    {
     "name": "stdout",
     "output_type": "stream",
     "text": [
      "41826 52289\n"
     ]
    },
    {
     "name": "stderr",
     "output_type": "stream",
     "text": [
      "\n"
     ]
    }
   ],
   "source": [
    "dataset_ev = dataset(task='evaluate', step_size=2)"
   ]
  },
  {
   "cell_type": "code",
   "execution_count": 4,
   "metadata": {
    "scrolled": false
   },
   "outputs": [],
   "source": [
    "dataset_ev = dataset(task='evaluate', step_size=2)"
   ]
  },
  {
   "cell_type": "code",
   "execution_count": 5,
   "metadata": {},
   "outputs": [
    {
     "data": {
      "text/plain": [
       "5229"
      ]
     },
     "execution_count": 5,
     "metadata": {},
     "output_type": "execute_result"
    }
   ],
   "source": [
    "len(dataset_ev)"
   ]
  },
  {
   "cell_type": "code",
   "execution_count": 5,
   "metadata": {},
   "outputs": [
    {
     "data": {
      "text/plain": [
       "5229"
      ]
     },
     "execution_count": 5,
     "metadata": {},
     "output_type": "execute_result"
    }
   ],
   "source": [
    "len(dataset_ev)"
   ]
  },
  {
   "cell_type": "code",
   "execution_count": 8,
   "metadata": {},
   "outputs": [
    {
     "data": {
      "text/plain": [
       "5229"
      ]
     },
     "execution_count": 8,
     "metadata": {},
     "output_type": "execute_result"
    }
   ],
   "source": [
    "(52289 - 41826 - 5) // 2"
   ]
  },
  {
   "cell_type": "code",
   "execution_count": 7,
   "metadata": {},
   "outputs": [
    {
     "data": {
      "text/plain": [
       "{'x': tensor([[0., 0., 0.,  ..., 0., 0., 0.],\n",
       "         [1., 0., 0.,  ..., 0., 0., 0.],\n",
       "         [1., 0., 0.,  ..., 0., 0., 0.],\n",
       "         [0., 0., 0.,  ..., 1., 0., 0.],\n",
       "         [0., 0., 0.,  ..., 0., 1., 0.]]),\n",
       " 'y': tensor([0, 0, 0,  ..., 0, 0, 1])}"
      ]
     },
     "execution_count": 7,
     "metadata": {},
     "output_type": "execute_result"
    }
   ],
   "source": [
    "dataset_ev[5228]\n"
   ]
  },
  {
   "cell_type": "code",
   "execution_count": 8,
   "metadata": {},
   "outputs": [],
   "source": [
    "import torch"
   ]
  },
  {
   "cell_type": "code",
   "execution_count": 13,
   "metadata": {},
   "outputs": [
    {
     "data": {
      "text/plain": [
       "tensor([0, 3, 4])"
      ]
     },
     "execution_count": 13,
     "metadata": {},
     "output_type": "execute_result"
    }
   ],
   "source": [
    "torch.empty(3, dtype=torch.long).random_(5)"
   ]
  },
  {
   "cell_type": "code",
   "execution_count": 14,
   "metadata": {},
   "outputs": [
    {
     "data": {
      "text/plain": [
       "tensor([[ 0.2180, -1.1164, -0.7758, -0.6159,  0.6157],\n",
       "        [ 1.1255,  0.5107,  0.4546,  0.1442, -1.8434],\n",
       "        [ 0.0235, -1.0156,  0.1819, -0.2908, -1.1125]], requires_grad=True)"
      ]
     },
     "execution_count": 14,
     "metadata": {},
     "output_type": "execute_result"
    }
   ],
   "source": [
    "torch.randn(3, 5, requires_grad=True)"
   ]
  },
  {
   "cell_type": "markdown",
   "metadata": {},
   "source": [
    "# predict"
   ]
  },
  {
   "cell_type": "code",
   "execution_count": 1,
   "metadata": {},
   "outputs": [],
   "source": [
    "import os\n",
    "import torch\n",
    "from model import Model\n",
    "from model import dataset"
   ]
  },
  {
   "cell_type": "code",
   "execution_count": 2,
   "metadata": {},
   "outputs": [],
   "source": [
    "from torch.utils.data import DataLoader"
   ]
  },
  {
   "cell_type": "code",
   "execution_count": 3,
   "metadata": {},
   "outputs": [],
   "source": [
    "win = 22"
   ]
  },
  {
   "cell_type": "code",
   "execution_count": 4,
   "metadata": {},
   "outputs": [],
   "source": [
    "dataset_te = dataset(task='test', window_size=win, evaluate_ratio=0)\n",
    "model = Model(dataset_te.features())"
   ]
  },
  {
   "cell_type": "code",
   "execution_count": 5,
   "metadata": {},
   "outputs": [],
   "source": [
    "if os.path.exists('./model/model_best'):\n",
    "    model.load_state_dict(torch.load(\"./model/model_best\", map_location=torch.device('cpu')))\n",
    "elif os.path.exists('./model/model'):\n",
    "    model.load_state_dict(torch.load(\"./model/model\", map_location=torch.device('cpu')))\n",
    "else:\n",
    "    print('no trained model to load')\n",
    "    \n",
    "    "
   ]
  },
  {
   "cell_type": "code",
   "execution_count": 6,
   "metadata": {},
   "outputs": [],
   "source": [
    "loader_te = DataLoader(\n",
    "        dataset=dataset_te, shuffle=False, num_workers=1, batch_size=1024\n",
    ")"
   ]
  },
  {
   "cell_type": "code",
   "execution_count": 7,
   "metadata": {},
   "outputs": [],
   "source": [
    "import pandas as pd"
   ]
  },
  {
   "cell_type": "code",
   "execution_count": 8,
   "metadata": {},
   "outputs": [],
   "source": [
    "import numpy as np"
   ]
  },
  {
   "cell_type": "code",
   "execution_count": 9,
   "metadata": {},
   "outputs": [
    {
     "data": {
      "text/html": [
       "<div>\n",
       "<style scoped>\n",
       "    .dataframe tbody tr th:only-of-type {\n",
       "        vertical-align: middle;\n",
       "    }\n",
       "\n",
       "    .dataframe tbody tr th {\n",
       "        vertical-align: top;\n",
       "    }\n",
       "\n",
       "    .dataframe thead th {\n",
       "        text-align: right;\n",
       "    }\n",
       "</style>\n",
       "<table border=\"1\" class=\"dataframe\">\n",
       "  <thead>\n",
       "    <tr style=\"text-align: right;\">\n",
       "      <th></th>\n",
       "      <th>datetime</th>\n",
       "      <th>EventId</th>\n",
       "    </tr>\n",
       "  </thead>\n",
       "  <tbody>\n",
       "    <tr>\n",
       "      <th>0</th>\n",
       "      <td>2017-05-14 19:39:01.445</td>\n",
       "      <td>1</td>\n",
       "    </tr>\n",
       "    <tr>\n",
       "      <th>1</th>\n",
       "      <td>2017-05-14 19:39:01.650</td>\n",
       "      <td>1</td>\n",
       "    </tr>\n",
       "    <tr>\n",
       "      <th>2</th>\n",
       "      <td>2017-05-14 19:39:02.007</td>\n",
       "      <td>2</td>\n",
       "    </tr>\n",
       "    <tr>\n",
       "      <th>3</th>\n",
       "      <td>2017-05-14 19:39:02.924</td>\n",
       "      <td>1</td>\n",
       "    </tr>\n",
       "    <tr>\n",
       "      <th>4</th>\n",
       "      <td>2017-05-14 19:39:03.166</td>\n",
       "      <td>3</td>\n",
       "    </tr>\n",
       "    <tr>\n",
       "      <th>...</th>\n",
       "      <td>...</td>\n",
       "      <td>...</td>\n",
       "    </tr>\n",
       "    <tr>\n",
       "      <th>18429</th>\n",
       "      <td>2017-05-14 21:56:20.169</td>\n",
       "      <td>615</td>\n",
       "    </tr>\n",
       "    <tr>\n",
       "      <th>18430</th>\n",
       "      <td>2017-05-14 21:56:20.311</td>\n",
       "      <td>8</td>\n",
       "    </tr>\n",
       "    <tr>\n",
       "      <th>18431</th>\n",
       "      <td>2017-05-14 21:56:25.365</td>\n",
       "      <td>6</td>\n",
       "    </tr>\n",
       "    <tr>\n",
       "      <th>18432</th>\n",
       "      <td>2017-05-14 21:56:25.366</td>\n",
       "      <td>7</td>\n",
       "    </tr>\n",
       "    <tr>\n",
       "      <th>18433</th>\n",
       "      <td>2017-05-14 21:56:25.531</td>\n",
       "      <td>8</td>\n",
       "    </tr>\n",
       "  </tbody>\n",
       "</table>\n",
       "<p>18434 rows × 2 columns</p>\n",
       "</div>"
      ],
      "text/plain": [
       "                      datetime  EventId\n",
       "0      2017-05-14 19:39:01.445        1\n",
       "1      2017-05-14 19:39:01.650        1\n",
       "2      2017-05-14 19:39:02.007        2\n",
       "3      2017-05-14 19:39:02.924        1\n",
       "4      2017-05-14 19:39:03.166        3\n",
       "...                        ...      ...\n",
       "18429  2017-05-14 21:56:20.169      615\n",
       "18430  2017-05-14 21:56:20.311        8\n",
       "18431  2017-05-14 21:56:25.365        6\n",
       "18432  2017-05-14 21:56:25.366        7\n",
       "18433  2017-05-14 21:56:25.531        8\n",
       "\n",
       "[18434 rows x 2 columns]"
      ]
     },
     "execution_count": 9,
     "metadata": {},
     "output_type": "execute_result"
    }
   ],
   "source": [
    "report = pd.read_csv('../exam2/data/test_need_aggregate.csv')\n",
    "report"
   ]
  },
  {
   "cell_type": "code",
   "execution_count": 10,
   "metadata": {},
   "outputs": [],
   "source": [
    "with torch.no_grad():\n",
    "    model.eval()\n",
    "    pred = []\n",
    "    for s, batch in enumerate(loader_te):\n",
    "        pred.append(model(batch['x']))\n",
    "    \n",
    "    prob = torch.cat(pred, dim=0)\n",
    "    "
   ]
  },
  {
   "cell_type": "code",
   "execution_count": 11,
   "metadata": {},
   "outputs": [
    {
     "data": {
      "text/plain": [
       "torch.Size([18412, 1143])"
      ]
     },
     "execution_count": 11,
     "metadata": {},
     "output_type": "execute_result"
    }
   ],
   "source": [
    "prob.size()"
   ]
  },
  {
   "cell_type": "code",
   "execution_count": 12,
   "metadata": {},
   "outputs": [],
   "source": [
    "anomaly_prob = []\n",
    "confidence = []"
   ]
  },
  {
   "cell_type": "code",
   "execution_count": 13,
   "metadata": {},
   "outputs": [],
   "source": [
    "for record, p in zip(list(report.EventId[win:] - 1), prob.numpy()):\n",
    "    anomaly_prob.append((1 + max(p) - 2 * p[record]) / 2)\n",
    "    confidence.append((1 - max(p)))\n"
   ]
  },
  {
   "cell_type": "code",
   "execution_count": 14,
   "metadata": {},
   "outputs": [],
   "source": [
    "report['conf'] = [1 for i in range(win)] + confidence\n",
    "report['anomaly_prob'] = [0 for i in range(win)]+anomaly_prob"
   ]
  },
  {
   "cell_type": "code",
   "execution_count": 15,
   "metadata": {},
   "outputs": [
    {
     "data": {
      "text/html": [
       "<div>\n",
       "<style scoped>\n",
       "    .dataframe tbody tr th:only-of-type {\n",
       "        vertical-align: middle;\n",
       "    }\n",
       "\n",
       "    .dataframe tbody tr th {\n",
       "        vertical-align: top;\n",
       "    }\n",
       "\n",
       "    .dataframe thead th {\n",
       "        text-align: right;\n",
       "    }\n",
       "</style>\n",
       "<table border=\"1\" class=\"dataframe\">\n",
       "  <thead>\n",
       "    <tr style=\"text-align: right;\">\n",
       "      <th></th>\n",
       "      <th>datetime</th>\n",
       "      <th>EventId</th>\n",
       "      <th>conf</th>\n",
       "      <th>anomaly_prob</th>\n",
       "    </tr>\n",
       "  </thead>\n",
       "  <tbody>\n",
       "    <tr>\n",
       "      <th>0</th>\n",
       "      <td>2017-05-14 19:39:01.445</td>\n",
       "      <td>1</td>\n",
       "      <td>1.000000</td>\n",
       "      <td>0.000000</td>\n",
       "    </tr>\n",
       "    <tr>\n",
       "      <th>1</th>\n",
       "      <td>2017-05-14 19:39:01.650</td>\n",
       "      <td>1</td>\n",
       "      <td>1.000000</td>\n",
       "      <td>0.000000</td>\n",
       "    </tr>\n",
       "    <tr>\n",
       "      <th>2</th>\n",
       "      <td>2017-05-14 19:39:02.007</td>\n",
       "      <td>2</td>\n",
       "      <td>1.000000</td>\n",
       "      <td>0.000000</td>\n",
       "    </tr>\n",
       "    <tr>\n",
       "      <th>3</th>\n",
       "      <td>2017-05-14 19:39:02.924</td>\n",
       "      <td>1</td>\n",
       "      <td>1.000000</td>\n",
       "      <td>0.000000</td>\n",
       "    </tr>\n",
       "    <tr>\n",
       "      <th>4</th>\n",
       "      <td>2017-05-14 19:39:03.166</td>\n",
       "      <td>3</td>\n",
       "      <td>1.000000</td>\n",
       "      <td>0.000000</td>\n",
       "    </tr>\n",
       "    <tr>\n",
       "      <th>...</th>\n",
       "      <td>...</td>\n",
       "      <td>...</td>\n",
       "      <td>...</td>\n",
       "      <td>...</td>\n",
       "    </tr>\n",
       "    <tr>\n",
       "      <th>18429</th>\n",
       "      <td>2017-05-14 21:56:20.169</td>\n",
       "      <td>615</td>\n",
       "      <td>0.446674</td>\n",
       "      <td>0.776142</td>\n",
       "    </tr>\n",
       "    <tr>\n",
       "      <th>18430</th>\n",
       "      <td>2017-05-14 21:56:20.311</td>\n",
       "      <td>8</td>\n",
       "      <td>0.461253</td>\n",
       "      <td>0.756579</td>\n",
       "    </tr>\n",
       "    <tr>\n",
       "      <th>18431</th>\n",
       "      <td>2017-05-14 21:56:25.365</td>\n",
       "      <td>6</td>\n",
       "      <td>0.445496</td>\n",
       "      <td>0.739901</td>\n",
       "    </tr>\n",
       "    <tr>\n",
       "      <th>18432</th>\n",
       "      <td>2017-05-14 21:56:25.366</td>\n",
       "      <td>7</td>\n",
       "      <td>0.446956</td>\n",
       "      <td>0.775143</td>\n",
       "    </tr>\n",
       "    <tr>\n",
       "      <th>18433</th>\n",
       "      <td>2017-05-14 21:56:25.531</td>\n",
       "      <td>8</td>\n",
       "      <td>0.446673</td>\n",
       "      <td>0.763935</td>\n",
       "    </tr>\n",
       "  </tbody>\n",
       "</table>\n",
       "<p>18434 rows × 4 columns</p>\n",
       "</div>"
      ],
      "text/plain": [
       "                      datetime  EventId      conf  anomaly_prob\n",
       "0      2017-05-14 19:39:01.445        1  1.000000      0.000000\n",
       "1      2017-05-14 19:39:01.650        1  1.000000      0.000000\n",
       "2      2017-05-14 19:39:02.007        2  1.000000      0.000000\n",
       "3      2017-05-14 19:39:02.924        1  1.000000      0.000000\n",
       "4      2017-05-14 19:39:03.166        3  1.000000      0.000000\n",
       "...                        ...      ...       ...           ...\n",
       "18429  2017-05-14 21:56:20.169      615  0.446674      0.776142\n",
       "18430  2017-05-14 21:56:20.311        8  0.461253      0.756579\n",
       "18431  2017-05-14 21:56:25.365        6  0.445496      0.739901\n",
       "18432  2017-05-14 21:56:25.366        7  0.446956      0.775143\n",
       "18433  2017-05-14 21:56:25.531        8  0.446673      0.763935\n",
       "\n",
       "[18434 rows x 4 columns]"
      ]
     },
     "execution_count": 15,
     "metadata": {},
     "output_type": "execute_result"
    }
   ],
   "source": [
    "report"
   ]
  },
  {
   "cell_type": "code",
   "execution_count": 16,
   "metadata": {},
   "outputs": [
    {
     "data": {
      "text/html": [
       "<div>\n",
       "<style scoped>\n",
       "    .dataframe tbody tr th:only-of-type {\n",
       "        vertical-align: middle;\n",
       "    }\n",
       "\n",
       "    .dataframe tbody tr th {\n",
       "        vertical-align: top;\n",
       "    }\n",
       "\n",
       "    .dataframe thead th {\n",
       "        text-align: right;\n",
       "    }\n",
       "</style>\n",
       "<table border=\"1\" class=\"dataframe\">\n",
       "  <thead>\n",
       "    <tr style=\"text-align: right;\">\n",
       "      <th></th>\n",
       "      <th>EventId</th>\n",
       "      <th>conf</th>\n",
       "      <th>anomaly_prob</th>\n",
       "    </tr>\n",
       "  </thead>\n",
       "  <tbody>\n",
       "    <tr>\n",
       "      <th>count</th>\n",
       "      <td>18434.000000</td>\n",
       "      <td>18434.000000</td>\n",
       "      <td>18434.000000</td>\n",
       "    </tr>\n",
       "    <tr>\n",
       "      <th>mean</th>\n",
       "      <td>51.890800</td>\n",
       "      <td>0.449978</td>\n",
       "      <td>0.491276</td>\n",
       "    </tr>\n",
       "    <tr>\n",
       "      <th>std</th>\n",
       "      <td>129.986419</td>\n",
       "      <td>0.019301</td>\n",
       "      <td>0.272143</td>\n",
       "    </tr>\n",
       "    <tr>\n",
       "      <th>min</th>\n",
       "      <td>1.000000</td>\n",
       "      <td>0.445274</td>\n",
       "      <td>0.000000</td>\n",
       "    </tr>\n",
       "    <tr>\n",
       "      <th>25%</th>\n",
       "      <td>1.000000</td>\n",
       "      <td>0.448449</td>\n",
       "      <td>0.224254</td>\n",
       "    </tr>\n",
       "    <tr>\n",
       "      <th>50%</th>\n",
       "      <td>1.000000</td>\n",
       "      <td>0.448509</td>\n",
       "      <td>0.229447</td>\n",
       "    </tr>\n",
       "    <tr>\n",
       "      <th>75%</th>\n",
       "      <td>14.000000</td>\n",
       "      <td>0.449156</td>\n",
       "      <td>0.771706</td>\n",
       "    </tr>\n",
       "    <tr>\n",
       "      <th>max</th>\n",
       "      <td>615.000000</td>\n",
       "      <td>1.000000</td>\n",
       "      <td>0.777284</td>\n",
       "    </tr>\n",
       "  </tbody>\n",
       "</table>\n",
       "</div>"
      ],
      "text/plain": [
       "            EventId          conf  anomaly_prob\n",
       "count  18434.000000  18434.000000  18434.000000\n",
       "mean      51.890800      0.449978      0.491276\n",
       "std      129.986419      0.019301      0.272143\n",
       "min        1.000000      0.445274      0.000000\n",
       "25%        1.000000      0.448449      0.224254\n",
       "50%        1.000000      0.448509      0.229447\n",
       "75%       14.000000      0.449156      0.771706\n",
       "max      615.000000      1.000000      0.777284"
      ]
     },
     "execution_count": 16,
     "metadata": {},
     "output_type": "execute_result"
    }
   ],
   "source": [
    "report.describe()"
   ]
  },
  {
   "cell_type": "code",
   "execution_count": 17,
   "metadata": {},
   "outputs": [
    {
     "data": {
      "text/html": [
       "<div>\n",
       "<style scoped>\n",
       "    .dataframe tbody tr th:only-of-type {\n",
       "        vertical-align: middle;\n",
       "    }\n",
       "\n",
       "    .dataframe tbody tr th {\n",
       "        vertical-align: top;\n",
       "    }\n",
       "\n",
       "    .dataframe thead th {\n",
       "        text-align: right;\n",
       "    }\n",
       "</style>\n",
       "<table border=\"1\" class=\"dataframe\">\n",
       "  <thead>\n",
       "    <tr style=\"text-align: right;\">\n",
       "      <th></th>\n",
       "      <th>datetime</th>\n",
       "      <th>EventId</th>\n",
       "      <th>conf</th>\n",
       "      <th>anomaly_prob</th>\n",
       "    </tr>\n",
       "  </thead>\n",
       "  <tbody>\n",
       "    <tr>\n",
       "      <th>232</th>\n",
       "      <td>2017-05-14 19:40:50.400</td>\n",
       "      <td>19</td>\n",
       "      <td>0.445300</td>\n",
       "      <td>0.777248</td>\n",
       "    </tr>\n",
       "    <tr>\n",
       "      <th>909</th>\n",
       "      <td>2017-05-14 19:45:56.295</td>\n",
       "      <td>19</td>\n",
       "      <td>0.445276</td>\n",
       "      <td>0.777260</td>\n",
       "    </tr>\n",
       "    <tr>\n",
       "      <th>988</th>\n",
       "      <td>2017-05-14 19:46:27.098</td>\n",
       "      <td>55</td>\n",
       "      <td>0.445377</td>\n",
       "      <td>0.777140</td>\n",
       "    </tr>\n",
       "    <tr>\n",
       "      <th>1255</th>\n",
       "      <td>2017-05-14 19:48:31.297</td>\n",
       "      <td>64</td>\n",
       "      <td>0.445333</td>\n",
       "      <td>0.777247</td>\n",
       "    </tr>\n",
       "    <tr>\n",
       "      <th>1443</th>\n",
       "      <td>2017-05-14 19:50:01.301</td>\n",
       "      <td>19</td>\n",
       "      <td>0.445275</td>\n",
       "      <td>0.777261</td>\n",
       "    </tr>\n",
       "    <tr>\n",
       "      <th>1622</th>\n",
       "      <td>2017-05-14 19:51:15.862</td>\n",
       "      <td>77</td>\n",
       "      <td>0.445438</td>\n",
       "      <td>0.777165</td>\n",
       "    </tr>\n",
       "    <tr>\n",
       "      <th>1710</th>\n",
       "      <td>2017-05-14 19:51:57.609</td>\n",
       "      <td>78</td>\n",
       "      <td>0.445315</td>\n",
       "      <td>0.777284</td>\n",
       "    </tr>\n",
       "    <tr>\n",
       "      <th>2190</th>\n",
       "      <td>2017-05-14 19:55:26.322</td>\n",
       "      <td>95</td>\n",
       "      <td>0.445299</td>\n",
       "      <td>0.777241</td>\n",
       "    </tr>\n",
       "    <tr>\n",
       "      <th>2950</th>\n",
       "      <td>2017-05-14 20:01:11.154</td>\n",
       "      <td>19</td>\n",
       "      <td>0.445276</td>\n",
       "      <td>0.777260</td>\n",
       "    </tr>\n",
       "    <tr>\n",
       "      <th>3034</th>\n",
       "      <td>2017-05-14 20:01:41.233</td>\n",
       "      <td>121</td>\n",
       "      <td>0.445299</td>\n",
       "      <td>0.777197</td>\n",
       "    </tr>\n",
       "    <tr>\n",
       "      <th>3517</th>\n",
       "      <td>2017-05-14 20:05:16.304</td>\n",
       "      <td>19</td>\n",
       "      <td>0.445275</td>\n",
       "      <td>0.777261</td>\n",
       "    </tr>\n",
       "    <tr>\n",
       "      <th>4044</th>\n",
       "      <td>2017-05-14 20:09:12.356</td>\n",
       "      <td>28</td>\n",
       "      <td>0.445299</td>\n",
       "      <td>0.777135</td>\n",
       "    </tr>\n",
       "    <tr>\n",
       "      <th>4527</th>\n",
       "      <td>2017-05-14 20:12:46.169</td>\n",
       "      <td>169</td>\n",
       "      <td>0.445300</td>\n",
       "      <td>0.777130</td>\n",
       "    </tr>\n",
       "    <tr>\n",
       "      <th>4873</th>\n",
       "      <td>2017-05-14 20:15:27.886</td>\n",
       "      <td>19</td>\n",
       "      <td>0.445299</td>\n",
       "      <td>0.777248</td>\n",
       "    </tr>\n",
       "    <tr>\n",
       "      <th>5150</th>\n",
       "      <td>2017-05-14 20:17:31.348</td>\n",
       "      <td>19</td>\n",
       "      <td>0.445300</td>\n",
       "      <td>0.777248</td>\n",
       "    </tr>\n",
       "    <tr>\n",
       "      <th>5903</th>\n",
       "      <td>2017-05-14 20:23:06.568</td>\n",
       "      <td>214</td>\n",
       "      <td>0.445299</td>\n",
       "      <td>0.777224</td>\n",
       "    </tr>\n",
       "    <tr>\n",
       "      <th>6107</th>\n",
       "      <td>2017-05-14 20:24:36.298</td>\n",
       "      <td>19</td>\n",
       "      <td>0.445274</td>\n",
       "      <td>0.777261</td>\n",
       "    </tr>\n",
       "    <tr>\n",
       "      <th>6750</th>\n",
       "      <td>2017-05-14 20:29:32.129</td>\n",
       "      <td>28</td>\n",
       "      <td>0.445274</td>\n",
       "      <td>0.777148</td>\n",
       "    </tr>\n",
       "    <tr>\n",
       "      <th>7037</th>\n",
       "      <td>2017-05-14 20:31:36.151</td>\n",
       "      <td>28</td>\n",
       "      <td>0.445274</td>\n",
       "      <td>0.777148</td>\n",
       "    </tr>\n",
       "    <tr>\n",
       "      <th>7210</th>\n",
       "      <td>2017-05-14 20:32:50.325</td>\n",
       "      <td>258</td>\n",
       "      <td>0.445315</td>\n",
       "      <td>0.777258</td>\n",
       "    </tr>\n",
       "    <tr>\n",
       "      <th>7302</th>\n",
       "      <td>2017-05-14 20:33:40.126</td>\n",
       "      <td>28</td>\n",
       "      <td>0.445274</td>\n",
       "      <td>0.777148</td>\n",
       "    </tr>\n",
       "    <tr>\n",
       "      <th>7381</th>\n",
       "      <td>2017-05-14 20:34:11.169</td>\n",
       "      <td>262</td>\n",
       "      <td>0.445389</td>\n",
       "      <td>0.777137</td>\n",
       "    </tr>\n",
       "    <tr>\n",
       "      <th>7876</th>\n",
       "      <td>2017-05-14 20:37:51.301</td>\n",
       "      <td>19</td>\n",
       "      <td>0.445276</td>\n",
       "      <td>0.777260</td>\n",
       "    </tr>\n",
       "    <tr>\n",
       "      <th>8137</th>\n",
       "      <td>2017-05-14 20:39:45.520</td>\n",
       "      <td>286</td>\n",
       "      <td>0.445299</td>\n",
       "      <td>0.777130</td>\n",
       "    </tr>\n",
       "    <tr>\n",
       "      <th>8404</th>\n",
       "      <td>2017-05-14 20:41:48.133</td>\n",
       "      <td>28</td>\n",
       "      <td>0.445300</td>\n",
       "      <td>0.777135</td>\n",
       "    </tr>\n",
       "    <tr>\n",
       "      <th>8420</th>\n",
       "      <td>2017-05-14 20:41:50.326</td>\n",
       "      <td>295</td>\n",
       "      <td>0.445315</td>\n",
       "      <td>0.777157</td>\n",
       "    </tr>\n",
       "    <tr>\n",
       "      <th>9513</th>\n",
       "      <td>2017-05-14 20:50:01.916</td>\n",
       "      <td>28</td>\n",
       "      <td>0.445314</td>\n",
       "      <td>0.777128</td>\n",
       "    </tr>\n",
       "    <tr>\n",
       "      <th>9790</th>\n",
       "      <td>2017-05-14 20:52:07.404</td>\n",
       "      <td>19</td>\n",
       "      <td>0.445300</td>\n",
       "      <td>0.777248</td>\n",
       "    </tr>\n",
       "    <tr>\n",
       "      <th>10195</th>\n",
       "      <td>2017-05-14 20:55:08.163</td>\n",
       "      <td>19</td>\n",
       "      <td>0.445275</td>\n",
       "      <td>0.777261</td>\n",
       "    </tr>\n",
       "    <tr>\n",
       "      <th>10352</th>\n",
       "      <td>2017-05-14 20:56:10.493</td>\n",
       "      <td>360</td>\n",
       "      <td>0.445380</td>\n",
       "      <td>0.777149</td>\n",
       "    </tr>\n",
       "    <tr>\n",
       "      <th>11590</th>\n",
       "      <td>2017-05-14 21:05:16.352</td>\n",
       "      <td>19</td>\n",
       "      <td>0.445299</td>\n",
       "      <td>0.777248</td>\n",
       "    </tr>\n",
       "    <tr>\n",
       "      <th>11703</th>\n",
       "      <td>2017-05-14 21:06:00.850</td>\n",
       "      <td>402</td>\n",
       "      <td>0.445432</td>\n",
       "      <td>0.777134</td>\n",
       "    </tr>\n",
       "    <tr>\n",
       "      <th>12019</th>\n",
       "      <td>2017-05-14 21:08:34.126</td>\n",
       "      <td>28</td>\n",
       "      <td>0.445274</td>\n",
       "      <td>0.777148</td>\n",
       "    </tr>\n",
       "    <tr>\n",
       "      <th>12840</th>\n",
       "      <td>2017-05-14 21:14:50.888</td>\n",
       "      <td>438</td>\n",
       "      <td>0.445299</td>\n",
       "      <td>0.777243</td>\n",
       "    </tr>\n",
       "    <tr>\n",
       "      <th>12914</th>\n",
       "      <td>2017-05-14 21:15:29.373</td>\n",
       "      <td>19</td>\n",
       "      <td>0.445299</td>\n",
       "      <td>0.777248</td>\n",
       "    </tr>\n",
       "    <tr>\n",
       "      <th>13196</th>\n",
       "      <td>2017-05-14 21:17:32.360</td>\n",
       "      <td>19</td>\n",
       "      <td>0.445299</td>\n",
       "      <td>0.777248</td>\n",
       "    </tr>\n",
       "    <tr>\n",
       "      <th>13213</th>\n",
       "      <td>2017-05-14 21:17:36.204</td>\n",
       "      <td>448</td>\n",
       "      <td>0.445299</td>\n",
       "      <td>0.777224</td>\n",
       "    </tr>\n",
       "    <tr>\n",
       "      <th>13410</th>\n",
       "      <td>2017-05-14 21:19:01.391</td>\n",
       "      <td>454</td>\n",
       "      <td>0.445299</td>\n",
       "      <td>0.777154</td>\n",
       "    </tr>\n",
       "    <tr>\n",
       "      <th>13601</th>\n",
       "      <td>2017-05-14 21:20:34.303</td>\n",
       "      <td>19</td>\n",
       "      <td>0.445274</td>\n",
       "      <td>0.777261</td>\n",
       "    </tr>\n",
       "    <tr>\n",
       "      <th>13746</th>\n",
       "      <td>2017-05-14 21:21:36.371</td>\n",
       "      <td>19</td>\n",
       "      <td>0.445299</td>\n",
       "      <td>0.777248</td>\n",
       "    </tr>\n",
       "    <tr>\n",
       "      <th>13895</th>\n",
       "      <td>2017-05-14 21:22:30.402</td>\n",
       "      <td>469</td>\n",
       "      <td>0.445299</td>\n",
       "      <td>0.777240</td>\n",
       "    </tr>\n",
       "    <tr>\n",
       "      <th>14174</th>\n",
       "      <td>2017-05-14 21:24:36.202</td>\n",
       "      <td>478</td>\n",
       "      <td>0.445316</td>\n",
       "      <td>0.777190</td>\n",
       "    </tr>\n",
       "    <tr>\n",
       "      <th>14192</th>\n",
       "      <td>2017-05-14 21:24:46.294</td>\n",
       "      <td>28</td>\n",
       "      <td>0.445276</td>\n",
       "      <td>0.777147</td>\n",
       "    </tr>\n",
       "    <tr>\n",
       "      <th>14750</th>\n",
       "      <td>2017-05-14 21:28:52.299</td>\n",
       "      <td>28</td>\n",
       "      <td>0.445275</td>\n",
       "      <td>0.777147</td>\n",
       "    </tr>\n",
       "    <tr>\n",
       "      <th>14924</th>\n",
       "      <td>2017-05-14 21:30:06.062</td>\n",
       "      <td>502</td>\n",
       "      <td>0.445299</td>\n",
       "      <td>0.777143</td>\n",
       "    </tr>\n",
       "    <tr>\n",
       "      <th>15291</th>\n",
       "      <td>2017-05-14 21:32:50.325</td>\n",
       "      <td>516</td>\n",
       "      <td>0.445299</td>\n",
       "      <td>0.777171</td>\n",
       "    </tr>\n",
       "    <tr>\n",
       "      <th>15300</th>\n",
       "      <td>2017-05-14 21:32:56.296</td>\n",
       "      <td>28</td>\n",
       "      <td>0.445274</td>\n",
       "      <td>0.777148</td>\n",
       "    </tr>\n",
       "    <tr>\n",
       "      <th>15668</th>\n",
       "      <td>2017-05-14 21:35:35.953</td>\n",
       "      <td>526</td>\n",
       "      <td>0.445316</td>\n",
       "      <td>0.777218</td>\n",
       "    </tr>\n",
       "    <tr>\n",
       "      <th>15757</th>\n",
       "      <td>2017-05-14 21:36:16.222</td>\n",
       "      <td>529</td>\n",
       "      <td>0.445299</td>\n",
       "      <td>0.777244</td>\n",
       "    </tr>\n",
       "    <tr>\n",
       "      <th>16426</th>\n",
       "      <td>2017-05-14 21:41:11.303</td>\n",
       "      <td>28</td>\n",
       "      <td>0.445274</td>\n",
       "      <td>0.777148</td>\n",
       "    </tr>\n",
       "    <tr>\n",
       "      <th>16976</th>\n",
       "      <td>2017-05-14 21:45:17.301</td>\n",
       "      <td>28</td>\n",
       "      <td>0.445274</td>\n",
       "      <td>0.777148</td>\n",
       "    </tr>\n",
       "    <tr>\n",
       "      <th>17068</th>\n",
       "      <td>2017-05-14 21:46:05.176</td>\n",
       "      <td>19</td>\n",
       "      <td>0.445275</td>\n",
       "      <td>0.777261</td>\n",
       "    </tr>\n",
       "    <tr>\n",
       "      <th>17327</th>\n",
       "      <td>2017-05-14 21:48:07.129</td>\n",
       "      <td>19</td>\n",
       "      <td>0.445299</td>\n",
       "      <td>0.777248</td>\n",
       "    </tr>\n",
       "    <tr>\n",
       "      <th>17612</th>\n",
       "      <td>2017-05-14 21:50:11.361</td>\n",
       "      <td>19</td>\n",
       "      <td>0.445300</td>\n",
       "      <td>0.777248</td>\n",
       "    </tr>\n",
       "    <tr>\n",
       "      <th>17630</th>\n",
       "      <td>2017-05-14 21:50:15.774</td>\n",
       "      <td>586</td>\n",
       "      <td>0.445299</td>\n",
       "      <td>0.777140</td>\n",
       "    </tr>\n",
       "    <tr>\n",
       "      <th>18419</th>\n",
       "      <td>2017-05-14 21:56:19.170</td>\n",
       "      <td>19</td>\n",
       "      <td>0.445299</td>\n",
       "      <td>0.777248</td>\n",
       "    </tr>\n",
       "  </tbody>\n",
       "</table>\n",
       "</div>"
      ],
      "text/plain": [
       "                      datetime  EventId      conf  anomaly_prob\n",
       "232    2017-05-14 19:40:50.400       19  0.445300      0.777248\n",
       "909    2017-05-14 19:45:56.295       19  0.445276      0.777260\n",
       "988    2017-05-14 19:46:27.098       55  0.445377      0.777140\n",
       "1255   2017-05-14 19:48:31.297       64  0.445333      0.777247\n",
       "1443   2017-05-14 19:50:01.301       19  0.445275      0.777261\n",
       "1622   2017-05-14 19:51:15.862       77  0.445438      0.777165\n",
       "1710   2017-05-14 19:51:57.609       78  0.445315      0.777284\n",
       "2190   2017-05-14 19:55:26.322       95  0.445299      0.777241\n",
       "2950   2017-05-14 20:01:11.154       19  0.445276      0.777260\n",
       "3034   2017-05-14 20:01:41.233      121  0.445299      0.777197\n",
       "3517   2017-05-14 20:05:16.304       19  0.445275      0.777261\n",
       "4044   2017-05-14 20:09:12.356       28  0.445299      0.777135\n",
       "4527   2017-05-14 20:12:46.169      169  0.445300      0.777130\n",
       "4873   2017-05-14 20:15:27.886       19  0.445299      0.777248\n",
       "5150   2017-05-14 20:17:31.348       19  0.445300      0.777248\n",
       "5903   2017-05-14 20:23:06.568      214  0.445299      0.777224\n",
       "6107   2017-05-14 20:24:36.298       19  0.445274      0.777261\n",
       "6750   2017-05-14 20:29:32.129       28  0.445274      0.777148\n",
       "7037   2017-05-14 20:31:36.151       28  0.445274      0.777148\n",
       "7210   2017-05-14 20:32:50.325      258  0.445315      0.777258\n",
       "7302   2017-05-14 20:33:40.126       28  0.445274      0.777148\n",
       "7381   2017-05-14 20:34:11.169      262  0.445389      0.777137\n",
       "7876   2017-05-14 20:37:51.301       19  0.445276      0.777260\n",
       "8137   2017-05-14 20:39:45.520      286  0.445299      0.777130\n",
       "8404   2017-05-14 20:41:48.133       28  0.445300      0.777135\n",
       "8420   2017-05-14 20:41:50.326      295  0.445315      0.777157\n",
       "9513   2017-05-14 20:50:01.916       28  0.445314      0.777128\n",
       "9790   2017-05-14 20:52:07.404       19  0.445300      0.777248\n",
       "10195  2017-05-14 20:55:08.163       19  0.445275      0.777261\n",
       "10352  2017-05-14 20:56:10.493      360  0.445380      0.777149\n",
       "11590  2017-05-14 21:05:16.352       19  0.445299      0.777248\n",
       "11703  2017-05-14 21:06:00.850      402  0.445432      0.777134\n",
       "12019  2017-05-14 21:08:34.126       28  0.445274      0.777148\n",
       "12840  2017-05-14 21:14:50.888      438  0.445299      0.777243\n",
       "12914  2017-05-14 21:15:29.373       19  0.445299      0.777248\n",
       "13196  2017-05-14 21:17:32.360       19  0.445299      0.777248\n",
       "13213  2017-05-14 21:17:36.204      448  0.445299      0.777224\n",
       "13410  2017-05-14 21:19:01.391      454  0.445299      0.777154\n",
       "13601  2017-05-14 21:20:34.303       19  0.445274      0.777261\n",
       "13746  2017-05-14 21:21:36.371       19  0.445299      0.777248\n",
       "13895  2017-05-14 21:22:30.402      469  0.445299      0.777240\n",
       "14174  2017-05-14 21:24:36.202      478  0.445316      0.777190\n",
       "14192  2017-05-14 21:24:46.294       28  0.445276      0.777147\n",
       "14750  2017-05-14 21:28:52.299       28  0.445275      0.777147\n",
       "14924  2017-05-14 21:30:06.062      502  0.445299      0.777143\n",
       "15291  2017-05-14 21:32:50.325      516  0.445299      0.777171\n",
       "15300  2017-05-14 21:32:56.296       28  0.445274      0.777148\n",
       "15668  2017-05-14 21:35:35.953      526  0.445316      0.777218\n",
       "15757  2017-05-14 21:36:16.222      529  0.445299      0.777244\n",
       "16426  2017-05-14 21:41:11.303       28  0.445274      0.777148\n",
       "16976  2017-05-14 21:45:17.301       28  0.445274      0.777148\n",
       "17068  2017-05-14 21:46:05.176       19  0.445275      0.777261\n",
       "17327  2017-05-14 21:48:07.129       19  0.445299      0.777248\n",
       "17612  2017-05-14 21:50:11.361       19  0.445300      0.777248\n",
       "17630  2017-05-14 21:50:15.774      586  0.445299      0.777140\n",
       "18419  2017-05-14 21:56:19.170       19  0.445299      0.777248"
      ]
     },
     "execution_count": 17,
     "metadata": {},
     "output_type": "execute_result"
    }
   ],
   "source": [
    "report[\n",
    "    ((report['anomaly_prob'] > np.quantile(report['anomaly_prob'], .997)) & (report['anomaly_prob'] > 0.7))\n",
    "]"
   ]
  },
  {
   "cell_type": "code",
   "execution_count": 18,
   "metadata": {},
   "outputs": [
    {
     "data": {
      "text/plain": [
       "0.003002543556006043"
      ]
     },
     "execution_count": 18,
     "metadata": {},
     "output_type": "execute_result"
    }
   ],
   "source": [
    "157 / 52289"
   ]
  },
  {
   "cell_type": "code",
   "execution_count": 19,
   "metadata": {},
   "outputs": [
    {
     "data": {
      "text/html": [
       "<div>\n",
       "<style scoped>\n",
       "    .dataframe tbody tr th:only-of-type {\n",
       "        vertical-align: middle;\n",
       "    }\n",
       "\n",
       "    .dataframe tbody tr th {\n",
       "        vertical-align: top;\n",
       "    }\n",
       "\n",
       "    .dataframe thead th {\n",
       "        text-align: right;\n",
       "    }\n",
       "</style>\n",
       "<table border=\"1\" class=\"dataframe\">\n",
       "  <thead>\n",
       "    <tr style=\"text-align: right;\">\n",
       "      <th></th>\n",
       "      <th>datetime</th>\n",
       "      <th>EventId</th>\n",
       "      <th>conf</th>\n",
       "      <th>anomaly_prob</th>\n",
       "      <th>anomaly</th>\n",
       "    </tr>\n",
       "  </thead>\n",
       "  <tbody>\n",
       "    <tr>\n",
       "      <th>0</th>\n",
       "      <td>2017-05-14 19:39:01.445</td>\n",
       "      <td>1</td>\n",
       "      <td>1.000000</td>\n",
       "      <td>0.000000</td>\n",
       "      <td>0</td>\n",
       "    </tr>\n",
       "    <tr>\n",
       "      <th>1</th>\n",
       "      <td>2017-05-14 19:39:01.650</td>\n",
       "      <td>1</td>\n",
       "      <td>1.000000</td>\n",
       "      <td>0.000000</td>\n",
       "      <td>0</td>\n",
       "    </tr>\n",
       "    <tr>\n",
       "      <th>2</th>\n",
       "      <td>2017-05-14 19:39:02.007</td>\n",
       "      <td>2</td>\n",
       "      <td>1.000000</td>\n",
       "      <td>0.000000</td>\n",
       "      <td>0</td>\n",
       "    </tr>\n",
       "    <tr>\n",
       "      <th>3</th>\n",
       "      <td>2017-05-14 19:39:02.924</td>\n",
       "      <td>1</td>\n",
       "      <td>1.000000</td>\n",
       "      <td>0.000000</td>\n",
       "      <td>0</td>\n",
       "    </tr>\n",
       "    <tr>\n",
       "      <th>4</th>\n",
       "      <td>2017-05-14 19:39:03.166</td>\n",
       "      <td>3</td>\n",
       "      <td>1.000000</td>\n",
       "      <td>0.000000</td>\n",
       "      <td>0</td>\n",
       "    </tr>\n",
       "    <tr>\n",
       "      <th>...</th>\n",
       "      <td>...</td>\n",
       "      <td>...</td>\n",
       "      <td>...</td>\n",
       "      <td>...</td>\n",
       "      <td>...</td>\n",
       "    </tr>\n",
       "    <tr>\n",
       "      <th>18429</th>\n",
       "      <td>2017-05-14 21:56:20.169</td>\n",
       "      <td>615</td>\n",
       "      <td>0.446674</td>\n",
       "      <td>0.776142</td>\n",
       "      <td>0</td>\n",
       "    </tr>\n",
       "    <tr>\n",
       "      <th>18430</th>\n",
       "      <td>2017-05-14 21:56:20.311</td>\n",
       "      <td>8</td>\n",
       "      <td>0.461253</td>\n",
       "      <td>0.756579</td>\n",
       "      <td>0</td>\n",
       "    </tr>\n",
       "    <tr>\n",
       "      <th>18431</th>\n",
       "      <td>2017-05-14 21:56:25.365</td>\n",
       "      <td>6</td>\n",
       "      <td>0.445496</td>\n",
       "      <td>0.739901</td>\n",
       "      <td>0</td>\n",
       "    </tr>\n",
       "    <tr>\n",
       "      <th>18432</th>\n",
       "      <td>2017-05-14 21:56:25.366</td>\n",
       "      <td>7</td>\n",
       "      <td>0.446956</td>\n",
       "      <td>0.775143</td>\n",
       "      <td>0</td>\n",
       "    </tr>\n",
       "    <tr>\n",
       "      <th>18433</th>\n",
       "      <td>2017-05-14 21:56:25.531</td>\n",
       "      <td>8</td>\n",
       "      <td>0.446673</td>\n",
       "      <td>0.763935</td>\n",
       "      <td>0</td>\n",
       "    </tr>\n",
       "  </tbody>\n",
       "</table>\n",
       "<p>18434 rows × 5 columns</p>\n",
       "</div>"
      ],
      "text/plain": [
       "                      datetime  EventId      conf  anomaly_prob  anomaly\n",
       "0      2017-05-14 19:39:01.445        1  1.000000      0.000000        0\n",
       "1      2017-05-14 19:39:01.650        1  1.000000      0.000000        0\n",
       "2      2017-05-14 19:39:02.007        2  1.000000      0.000000        0\n",
       "3      2017-05-14 19:39:02.924        1  1.000000      0.000000        0\n",
       "4      2017-05-14 19:39:03.166        3  1.000000      0.000000        0\n",
       "...                        ...      ...       ...           ...      ...\n",
       "18429  2017-05-14 21:56:20.169      615  0.446674      0.776142        0\n",
       "18430  2017-05-14 21:56:20.311        8  0.461253      0.756579        0\n",
       "18431  2017-05-14 21:56:25.365        6  0.445496      0.739901        0\n",
       "18432  2017-05-14 21:56:25.366        7  0.446956      0.775143        0\n",
       "18433  2017-05-14 21:56:25.531        8  0.446673      0.763935        0\n",
       "\n",
       "[18434 rows x 5 columns]"
      ]
     },
     "execution_count": 19,
     "metadata": {},
     "output_type": "execute_result"
    }
   ],
   "source": [
    "report['anomaly'] = [0 for x in report.index]\n",
    "report"
   ]
  },
  {
   "cell_type": "code",
   "execution_count": 20,
   "metadata": {},
   "outputs": [],
   "source": [
    "report.loc[((report['anomaly_prob'] > np.quantile(report['anomaly_prob'], .997)) & (report['anomaly_prob'] > 0.7)), 'anomaly'] = 1"
   ]
  },
  {
   "cell_type": "code",
   "execution_count": 21,
   "metadata": {},
   "outputs": [
    {
     "data": {
      "text/html": [
       "<div>\n",
       "<style scoped>\n",
       "    .dataframe tbody tr th:only-of-type {\n",
       "        vertical-align: middle;\n",
       "    }\n",
       "\n",
       "    .dataframe tbody tr th {\n",
       "        vertical-align: top;\n",
       "    }\n",
       "\n",
       "    .dataframe thead th {\n",
       "        text-align: right;\n",
       "    }\n",
       "</style>\n",
       "<table border=\"1\" class=\"dataframe\">\n",
       "  <thead>\n",
       "    <tr style=\"text-align: right;\">\n",
       "      <th></th>\n",
       "      <th>datetime</th>\n",
       "      <th>EventId</th>\n",
       "      <th>conf</th>\n",
       "      <th>anomaly_prob</th>\n",
       "      <th>anomaly</th>\n",
       "    </tr>\n",
       "  </thead>\n",
       "  <tbody>\n",
       "    <tr>\n",
       "      <th>0</th>\n",
       "      <td>2017-05-14 19:39:01.445</td>\n",
       "      <td>1</td>\n",
       "      <td>1.000000</td>\n",
       "      <td>0.000000</td>\n",
       "      <td>0</td>\n",
       "    </tr>\n",
       "    <tr>\n",
       "      <th>1</th>\n",
       "      <td>2017-05-14 19:39:01.650</td>\n",
       "      <td>1</td>\n",
       "      <td>1.000000</td>\n",
       "      <td>0.000000</td>\n",
       "      <td>0</td>\n",
       "    </tr>\n",
       "    <tr>\n",
       "      <th>2</th>\n",
       "      <td>2017-05-14 19:39:02.007</td>\n",
       "      <td>2</td>\n",
       "      <td>1.000000</td>\n",
       "      <td>0.000000</td>\n",
       "      <td>0</td>\n",
       "    </tr>\n",
       "    <tr>\n",
       "      <th>3</th>\n",
       "      <td>2017-05-14 19:39:02.924</td>\n",
       "      <td>1</td>\n",
       "      <td>1.000000</td>\n",
       "      <td>0.000000</td>\n",
       "      <td>0</td>\n",
       "    </tr>\n",
       "    <tr>\n",
       "      <th>4</th>\n",
       "      <td>2017-05-14 19:39:03.166</td>\n",
       "      <td>3</td>\n",
       "      <td>1.000000</td>\n",
       "      <td>0.000000</td>\n",
       "      <td>0</td>\n",
       "    </tr>\n",
       "    <tr>\n",
       "      <th>...</th>\n",
       "      <td>...</td>\n",
       "      <td>...</td>\n",
       "      <td>...</td>\n",
       "      <td>...</td>\n",
       "      <td>...</td>\n",
       "    </tr>\n",
       "    <tr>\n",
       "      <th>18429</th>\n",
       "      <td>2017-05-14 21:56:20.169</td>\n",
       "      <td>615</td>\n",
       "      <td>0.446674</td>\n",
       "      <td>0.776142</td>\n",
       "      <td>0</td>\n",
       "    </tr>\n",
       "    <tr>\n",
       "      <th>18430</th>\n",
       "      <td>2017-05-14 21:56:20.311</td>\n",
       "      <td>8</td>\n",
       "      <td>0.461253</td>\n",
       "      <td>0.756579</td>\n",
       "      <td>0</td>\n",
       "    </tr>\n",
       "    <tr>\n",
       "      <th>18431</th>\n",
       "      <td>2017-05-14 21:56:25.365</td>\n",
       "      <td>6</td>\n",
       "      <td>0.445496</td>\n",
       "      <td>0.739901</td>\n",
       "      <td>0</td>\n",
       "    </tr>\n",
       "    <tr>\n",
       "      <th>18432</th>\n",
       "      <td>2017-05-14 21:56:25.366</td>\n",
       "      <td>7</td>\n",
       "      <td>0.446956</td>\n",
       "      <td>0.775143</td>\n",
       "      <td>0</td>\n",
       "    </tr>\n",
       "    <tr>\n",
       "      <th>18433</th>\n",
       "      <td>2017-05-14 21:56:25.531</td>\n",
       "      <td>8</td>\n",
       "      <td>0.446673</td>\n",
       "      <td>0.763935</td>\n",
       "      <td>0</td>\n",
       "    </tr>\n",
       "  </tbody>\n",
       "</table>\n",
       "<p>18434 rows × 5 columns</p>\n",
       "</div>"
      ],
      "text/plain": [
       "                      datetime  EventId      conf  anomaly_prob  anomaly\n",
       "0      2017-05-14 19:39:01.445        1  1.000000      0.000000        0\n",
       "1      2017-05-14 19:39:01.650        1  1.000000      0.000000        0\n",
       "2      2017-05-14 19:39:02.007        2  1.000000      0.000000        0\n",
       "3      2017-05-14 19:39:02.924        1  1.000000      0.000000        0\n",
       "4      2017-05-14 19:39:03.166        3  1.000000      0.000000        0\n",
       "...                        ...      ...       ...           ...      ...\n",
       "18429  2017-05-14 21:56:20.169      615  0.446674      0.776142        0\n",
       "18430  2017-05-14 21:56:20.311        8  0.461253      0.756579        0\n",
       "18431  2017-05-14 21:56:25.365        6  0.445496      0.739901        0\n",
       "18432  2017-05-14 21:56:25.366        7  0.446956      0.775143        0\n",
       "18433  2017-05-14 21:56:25.531        8  0.446673      0.763935        0\n",
       "\n",
       "[18434 rows x 5 columns]"
      ]
     },
     "execution_count": 21,
     "metadata": {},
     "output_type": "execute_result"
    }
   ],
   "source": [
    "report"
   ]
  },
  {
   "cell_type": "code",
   "execution_count": 22,
   "metadata": {},
   "outputs": [],
   "source": [
    "import swifter"
   ]
  },
  {
   "cell_type": "code",
   "execution_count": 23,
   "metadata": {},
   "outputs": [],
   "source": [
    "import pendulum as pdl\n"
   ]
  },
  {
   "cell_type": "code",
   "execution_count": 24,
   "metadata": {},
   "outputs": [
    {
     "data": {
      "application/vnd.jupyter.widget-view+json": {
       "model_id": "7d592f76793748e7bfd995150c683612",
       "version_major": 2,
       "version_minor": 0
      },
      "text/plain": [
       "HBox(children=(FloatProgress(value=0.0, description='Pandas Apply', max=18434.0, style=ProgressStyle(descripti…"
      ]
     },
     "metadata": {},
     "output_type": "display_data"
    },
    {
     "name": "stdout",
     "output_type": "stream",
     "text": [
      "\n"
     ]
    }
   ],
   "source": [
    "report['datetime'] = (\n",
    "        report['datetime']\n",
    "        .swifter\n",
    "        .apply(\n",
    "            lambda x: pdl.parse(x).format('YYYY-MM-DD HH:mm:00')\n",
    "        )\n",
    "    )"
   ]
  },
  {
   "cell_type": "code",
   "execution_count": 25,
   "metadata": {},
   "outputs": [
    {
     "data": {
      "text/html": [
       "<div>\n",
       "<style scoped>\n",
       "    .dataframe tbody tr th:only-of-type {\n",
       "        vertical-align: middle;\n",
       "    }\n",
       "\n",
       "    .dataframe tbody tr th {\n",
       "        vertical-align: top;\n",
       "    }\n",
       "\n",
       "    .dataframe thead th {\n",
       "        text-align: right;\n",
       "    }\n",
       "</style>\n",
       "<table border=\"1\" class=\"dataframe\">\n",
       "  <thead>\n",
       "    <tr style=\"text-align: right;\">\n",
       "      <th></th>\n",
       "      <th>datetime</th>\n",
       "      <th>anomaly</th>\n",
       "    </tr>\n",
       "  </thead>\n",
       "  <tbody>\n",
       "    <tr>\n",
       "      <th>0</th>\n",
       "      <td>2017-05-14 19:39:00</td>\n",
       "      <td>0</td>\n",
       "    </tr>\n",
       "    <tr>\n",
       "      <th>1</th>\n",
       "      <td>2017-05-14 19:40:00</td>\n",
       "      <td>1</td>\n",
       "    </tr>\n",
       "    <tr>\n",
       "      <th>2</th>\n",
       "      <td>2017-05-14 19:41:00</td>\n",
       "      <td>0</td>\n",
       "    </tr>\n",
       "    <tr>\n",
       "      <th>3</th>\n",
       "      <td>2017-05-14 19:42:00</td>\n",
       "      <td>0</td>\n",
       "    </tr>\n",
       "    <tr>\n",
       "      <th>4</th>\n",
       "      <td>2017-05-14 19:43:00</td>\n",
       "      <td>0</td>\n",
       "    </tr>\n",
       "    <tr>\n",
       "      <th>...</th>\n",
       "      <td>...</td>\n",
       "      <td>...</td>\n",
       "    </tr>\n",
       "    <tr>\n",
       "      <th>133</th>\n",
       "      <td>2017-05-14 21:52:00</td>\n",
       "      <td>0</td>\n",
       "    </tr>\n",
       "    <tr>\n",
       "      <th>134</th>\n",
       "      <td>2017-05-14 21:53:00</td>\n",
       "      <td>0</td>\n",
       "    </tr>\n",
       "    <tr>\n",
       "      <th>135</th>\n",
       "      <td>2017-05-14 21:54:00</td>\n",
       "      <td>0</td>\n",
       "    </tr>\n",
       "    <tr>\n",
       "      <th>136</th>\n",
       "      <td>2017-05-14 21:55:00</td>\n",
       "      <td>0</td>\n",
       "    </tr>\n",
       "    <tr>\n",
       "      <th>137</th>\n",
       "      <td>2017-05-14 21:56:00</td>\n",
       "      <td>1</td>\n",
       "    </tr>\n",
       "  </tbody>\n",
       "</table>\n",
       "<p>138 rows × 2 columns</p>\n",
       "</div>"
      ],
      "text/plain": [
       "                datetime  anomaly\n",
       "0    2017-05-14 19:39:00        0\n",
       "1    2017-05-14 19:40:00        1\n",
       "2    2017-05-14 19:41:00        0\n",
       "3    2017-05-14 19:42:00        0\n",
       "4    2017-05-14 19:43:00        0\n",
       "..                   ...      ...\n",
       "133  2017-05-14 21:52:00        0\n",
       "134  2017-05-14 21:53:00        0\n",
       "135  2017-05-14 21:54:00        0\n",
       "136  2017-05-14 21:55:00        0\n",
       "137  2017-05-14 21:56:00        1\n",
       "\n",
       "[138 rows x 2 columns]"
      ]
     },
     "execution_count": 25,
     "metadata": {},
     "output_type": "execute_result"
    }
   ],
   "source": [
    "report_agg = (\n",
    "        report\n",
    "#         .groupby('datetime')['EventId']\n",
    "#         .apply(list)\n",
    "#         .reset_index(name='EventId')\n",
    "    \n",
    "        .groupby('datetime')['anomaly']\n",
    "        .apply(list)\n",
    "#         .apply(lambda x: x.count(1))\n",
    "        .apply(max)\n",
    "        .reset_index(name='anomaly')\n",
    "        \n",
    "    )\n",
    "report_agg"
   ]
  },
  {
   "cell_type": "code",
   "execution_count": 26,
   "metadata": {},
   "outputs": [
    {
     "data": {
      "text/html": [
       "<div>\n",
       "<style scoped>\n",
       "    .dataframe tbody tr th:only-of-type {\n",
       "        vertical-align: middle;\n",
       "    }\n",
       "\n",
       "    .dataframe tbody tr th {\n",
       "        vertical-align: top;\n",
       "    }\n",
       "\n",
       "    .dataframe thead th {\n",
       "        text-align: right;\n",
       "    }\n",
       "</style>\n",
       "<table border=\"1\" class=\"dataframe\">\n",
       "  <thead>\n",
       "    <tr style=\"text-align: right;\">\n",
       "      <th></th>\n",
       "      <th>datetime</th>\n",
       "      <th>EventId</th>\n",
       "      <th>anomaly</th>\n",
       "    </tr>\n",
       "  </thead>\n",
       "  <tbody>\n",
       "    <tr>\n",
       "      <th>0</th>\n",
       "      <td>2017-05-14 19:39:00</td>\n",
       "      <td>[1, 1, 2, 1, 3, 1, 1, 1, 1, 1, 1, 1, 1, 1, 4, ...</td>\n",
       "      <td>0</td>\n",
       "    </tr>\n",
       "    <tr>\n",
       "      <th>1</th>\n",
       "      <td>2017-05-14 19:40:00</td>\n",
       "      <td>[1, 6, 7, 1, 8, 1, 1, 1, 1, 9, 1, 3, 15, 24, 2...</td>\n",
       "      <td>1</td>\n",
       "    </tr>\n",
       "    <tr>\n",
       "      <th>2</th>\n",
       "      <td>2017-05-14 19:41:00</td>\n",
       "      <td>[8, 8, 8, 1, 1, 14, 29, 16, 30, 18, 30, 18, 29...</td>\n",
       "      <td>0</td>\n",
       "    </tr>\n",
       "    <tr>\n",
       "      <th>3</th>\n",
       "      <td>2017-05-14 19:42:00</td>\n",
       "      <td>[1, 1, 1, 1, 1, 3, 3, 1, 23, 1, 6, 7, 8, 1, 1,...</td>\n",
       "      <td>0</td>\n",
       "    </tr>\n",
       "    <tr>\n",
       "      <th>4</th>\n",
       "      <td>2017-05-14 19:43:00</td>\n",
       "      <td>[6, 7, 35, 35, 8, 38, 1, 38, 1, 13, 1, 8, 8, 8...</td>\n",
       "      <td>0</td>\n",
       "    </tr>\n",
       "    <tr>\n",
       "      <th>...</th>\n",
       "      <td>...</td>\n",
       "      <td>...</td>\n",
       "      <td>...</td>\n",
       "    </tr>\n",
       "    <tr>\n",
       "      <th>133</th>\n",
       "      <td>2017-05-14 21:52:00</td>\n",
       "      <td>[1, 1, 1, 1, 1, 1, 6, 7, 8, 3, 3, 1, 23, 1, 1,...</td>\n",
       "      <td>0</td>\n",
       "    </tr>\n",
       "    <tr>\n",
       "      <th>134</th>\n",
       "      <td>2017-05-14 21:53:00</td>\n",
       "      <td>[6, 7, 1, 8, 1, 1, 1, 598, 1, 598, 1, 598, 598...</td>\n",
       "      <td>0</td>\n",
       "    </tr>\n",
       "    <tr>\n",
       "      <th>135</th>\n",
       "      <td>2017-05-14 21:54:00</td>\n",
       "      <td>[1, 1, 1, 1, 1, 1, 1, 1, 1, 1, 1, 1, 3, 3, 23,...</td>\n",
       "      <td>0</td>\n",
       "    </tr>\n",
       "    <tr>\n",
       "      <th>136</th>\n",
       "      <td>2017-05-14 21:55:00</td>\n",
       "      <td>[6, 7, 8, 1, 1, 1, 1, 607, 1, 607, 1, 6, 7, 8,...</td>\n",
       "      <td>0</td>\n",
       "    </tr>\n",
       "    <tr>\n",
       "      <th>137</th>\n",
       "      <td>2017-05-14 21:56:00</td>\n",
       "      <td>[613, 1, 1, 3, 1, 1, 1, 1, 1, 1, 6, 7, 8, 3, 3...</td>\n",
       "      <td>1</td>\n",
       "    </tr>\n",
       "  </tbody>\n",
       "</table>\n",
       "<p>138 rows × 3 columns</p>\n",
       "</div>"
      ],
      "text/plain": [
       "                datetime                                            EventId  \\\n",
       "0    2017-05-14 19:39:00  [1, 1, 2, 1, 3, 1, 1, 1, 1, 1, 1, 1, 1, 1, 4, ...   \n",
       "1    2017-05-14 19:40:00  [1, 6, 7, 1, 8, 1, 1, 1, 1, 9, 1, 3, 15, 24, 2...   \n",
       "2    2017-05-14 19:41:00  [8, 8, 8, 1, 1, 14, 29, 16, 30, 18, 30, 18, 29...   \n",
       "3    2017-05-14 19:42:00  [1, 1, 1, 1, 1, 3, 3, 1, 23, 1, 6, 7, 8, 1, 1,...   \n",
       "4    2017-05-14 19:43:00  [6, 7, 35, 35, 8, 38, 1, 38, 1, 13, 1, 8, 8, 8...   \n",
       "..                   ...                                                ...   \n",
       "133  2017-05-14 21:52:00  [1, 1, 1, 1, 1, 1, 6, 7, 8, 3, 3, 1, 23, 1, 1,...   \n",
       "134  2017-05-14 21:53:00  [6, 7, 1, 8, 1, 1, 1, 598, 1, 598, 1, 598, 598...   \n",
       "135  2017-05-14 21:54:00  [1, 1, 1, 1, 1, 1, 1, 1, 1, 1, 1, 1, 3, 3, 23,...   \n",
       "136  2017-05-14 21:55:00  [6, 7, 8, 1, 1, 1, 1, 607, 1, 607, 1, 6, 7, 8,...   \n",
       "137  2017-05-14 21:56:00  [613, 1, 1, 3, 1, 1, 1, 1, 1, 1, 6, 7, 8, 3, 3...   \n",
       "\n",
       "     anomaly  \n",
       "0          0  \n",
       "1          1  \n",
       "2          0  \n",
       "3          0  \n",
       "4          0  \n",
       "..       ...  \n",
       "133        0  \n",
       "134        0  \n",
       "135        0  \n",
       "136        0  \n",
       "137        1  \n",
       "\n",
       "[138 rows x 3 columns]"
      ]
     },
     "execution_count": 26,
     "metadata": {},
     "output_type": "execute_result"
    }
   ],
   "source": [
    "pd.merge(pd.read_csv('../exam2/result/test.csv'), report_agg, how='left', on=['datetime'])\n"
   ]
  },
  {
   "cell_type": "code",
   "execution_count": 27,
   "metadata": {},
   "outputs": [
    {
     "data": {
      "text/html": [
       "<div>\n",
       "<style scoped>\n",
       "    .dataframe tbody tr th:only-of-type {\n",
       "        vertical-align: middle;\n",
       "    }\n",
       "\n",
       "    .dataframe tbody tr th {\n",
       "        vertical-align: top;\n",
       "    }\n",
       "\n",
       "    .dataframe thead th {\n",
       "        text-align: right;\n",
       "    }\n",
       "</style>\n",
       "<table border=\"1\" class=\"dataframe\">\n",
       "  <thead>\n",
       "    <tr style=\"text-align: right;\">\n",
       "      <th></th>\n",
       "      <th>datetime</th>\n",
       "      <th>anomaly</th>\n",
       "    </tr>\n",
       "  </thead>\n",
       "  <tbody>\n",
       "    <tr>\n",
       "      <th>0</th>\n",
       "      <td>2017-05-16 00:00:00</td>\n",
       "      <td>1</td>\n",
       "    </tr>\n",
       "    <tr>\n",
       "      <th>2</th>\n",
       "      <td>2017-05-16 00:02:00</td>\n",
       "      <td>1</td>\n",
       "    </tr>\n",
       "    <tr>\n",
       "      <th>8</th>\n",
       "      <td>2017-05-16 00:08:00</td>\n",
       "      <td>1</td>\n",
       "    </tr>\n",
       "    <tr>\n",
       "      <th>9</th>\n",
       "      <td>2017-05-16 00:09:00</td>\n",
       "      <td>1</td>\n",
       "    </tr>\n",
       "    <tr>\n",
       "      <th>11</th>\n",
       "      <td>2017-05-16 00:11:00</td>\n",
       "      <td>1</td>\n",
       "    </tr>\n",
       "    <tr>\n",
       "      <th>...</th>\n",
       "      <td>...</td>\n",
       "      <td>...</td>\n",
       "    </tr>\n",
       "    <tr>\n",
       "      <th>365</th>\n",
       "      <td>2017-05-16 06:05:00</td>\n",
       "      <td>1</td>\n",
       "    </tr>\n",
       "    <tr>\n",
       "      <th>376</th>\n",
       "      <td>2017-05-16 06:16:00</td>\n",
       "      <td>1</td>\n",
       "    </tr>\n",
       "    <tr>\n",
       "      <th>377</th>\n",
       "      <td>2017-05-16 06:17:00</td>\n",
       "      <td>1</td>\n",
       "    </tr>\n",
       "    <tr>\n",
       "      <th>378</th>\n",
       "      <td>2017-05-16 06:18:00</td>\n",
       "      <td>1</td>\n",
       "    </tr>\n",
       "    <tr>\n",
       "      <th>382</th>\n",
       "      <td>2017-05-16 06:22:00</td>\n",
       "      <td>1</td>\n",
       "    </tr>\n",
       "  </tbody>\n",
       "</table>\n",
       "<p>118 rows × 2 columns</p>\n",
       "</div>"
      ],
      "text/plain": [
       "                datetime  anomaly\n",
       "0    2017-05-16 00:00:00        1\n",
       "2    2017-05-16 00:02:00        1\n",
       "8    2017-05-16 00:08:00        1\n",
       "9    2017-05-16 00:09:00        1\n",
       "11   2017-05-16 00:11:00        1\n",
       "..                   ...      ...\n",
       "365  2017-05-16 06:05:00        1\n",
       "376  2017-05-16 06:16:00        1\n",
       "377  2017-05-16 06:17:00        1\n",
       "378  2017-05-16 06:18:00        1\n",
       "382  2017-05-16 06:22:00        1\n",
       "\n",
       "[118 rows x 2 columns]"
      ]
     },
     "execution_count": 27,
     "metadata": {},
     "output_type": "execute_result"
    }
   ],
   "source": [
    "report_agg[report_agg.anomaly == 1]"
   ]
  },
  {
   "cell_type": "code",
   "execution_count": 28,
   "metadata": {},
   "outputs": [
    {
     "data": {
      "text/html": [
       "<div>\n",
       "<style scoped>\n",
       "    .dataframe tbody tr th:only-of-type {\n",
       "        vertical-align: middle;\n",
       "    }\n",
       "\n",
       "    .dataframe tbody tr th {\n",
       "        vertical-align: top;\n",
       "    }\n",
       "\n",
       "    .dataframe thead th {\n",
       "        text-align: right;\n",
       "    }\n",
       "</style>\n",
       "<table border=\"1\" class=\"dataframe\">\n",
       "  <thead>\n",
       "    <tr style=\"text-align: right;\">\n",
       "      <th></th>\n",
       "      <th>datetime</th>\n",
       "      <th>anomaly</th>\n",
       "    </tr>\n",
       "  </thead>\n",
       "  <tbody>\n",
       "    <tr>\n",
       "      <th>1</th>\n",
       "      <td>2017-05-16 00:01:00</td>\n",
       "      <td>0</td>\n",
       "    </tr>\n",
       "    <tr>\n",
       "      <th>3</th>\n",
       "      <td>2017-05-16 00:03:00</td>\n",
       "      <td>0</td>\n",
       "    </tr>\n",
       "    <tr>\n",
       "      <th>4</th>\n",
       "      <td>2017-05-16 00:04:00</td>\n",
       "      <td>0</td>\n",
       "    </tr>\n",
       "    <tr>\n",
       "      <th>5</th>\n",
       "      <td>2017-05-16 00:05:00</td>\n",
       "      <td>0</td>\n",
       "    </tr>\n",
       "    <tr>\n",
       "      <th>6</th>\n",
       "      <td>2017-05-16 00:06:00</td>\n",
       "      <td>0</td>\n",
       "    </tr>\n",
       "    <tr>\n",
       "      <th>...</th>\n",
       "      <td>...</td>\n",
       "      <td>...</td>\n",
       "    </tr>\n",
       "    <tr>\n",
       "      <th>380</th>\n",
       "      <td>2017-05-16 06:20:00</td>\n",
       "      <td>0</td>\n",
       "    </tr>\n",
       "    <tr>\n",
       "      <th>381</th>\n",
       "      <td>2017-05-16 06:21:00</td>\n",
       "      <td>0</td>\n",
       "    </tr>\n",
       "    <tr>\n",
       "      <th>383</th>\n",
       "      <td>2017-05-16 06:23:00</td>\n",
       "      <td>0</td>\n",
       "    </tr>\n",
       "    <tr>\n",
       "      <th>384</th>\n",
       "      <td>2017-05-16 06:24:00</td>\n",
       "      <td>0</td>\n",
       "    </tr>\n",
       "    <tr>\n",
       "      <th>385</th>\n",
       "      <td>2017-05-16 06:25:00</td>\n",
       "      <td>0</td>\n",
       "    </tr>\n",
       "  </tbody>\n",
       "</table>\n",
       "<p>268 rows × 2 columns</p>\n",
       "</div>"
      ],
      "text/plain": [
       "                datetime  anomaly\n",
       "1    2017-05-16 00:01:00        0\n",
       "3    2017-05-16 00:03:00        0\n",
       "4    2017-05-16 00:04:00        0\n",
       "5    2017-05-16 00:05:00        0\n",
       "6    2017-05-16 00:06:00        0\n",
       "..                   ...      ...\n",
       "380  2017-05-16 06:20:00        0\n",
       "381  2017-05-16 06:21:00        0\n",
       "383  2017-05-16 06:23:00        0\n",
       "384  2017-05-16 06:24:00        0\n",
       "385  2017-05-16 06:25:00        0\n",
       "\n",
       "[268 rows x 2 columns]"
      ]
     },
     "execution_count": 28,
     "metadata": {},
     "output_type": "execute_result"
    }
   ],
   "source": [
    "report_agg[report_agg.anomaly == 0]"
   ]
  },
  {
   "cell_type": "code",
   "execution_count": null,
   "metadata": {},
   "outputs": [],
   "source": []
  }
 ],
 "metadata": {
  "kernelspec": {
   "display_name": "Python 3",
   "language": "python",
   "name": "python3"
  },
  "language_info": {
   "codemirror_mode": {
    "name": "ipython",
    "version": 3
   },
   "file_extension": ".py",
   "mimetype": "text/x-python",
   "name": "python",
   "nbconvert_exporter": "python",
   "pygments_lexer": "ipython3",
   "version": "3.7.4"
  }
 },
 "nbformat": 4,
 "nbformat_minor": 4
}
